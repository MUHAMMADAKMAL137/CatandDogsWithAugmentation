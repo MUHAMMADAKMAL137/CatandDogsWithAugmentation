{
  "cells": [
    {
      "cell_type": "code",
      "execution_count": null,
      "metadata": {
        "colab": {
          "background_save": true
        },
        "id": "q0n5fdXtu3Yk"
      },
      "outputs": [],
      "source": [
        "#install kaggle\n",
        "!pip install -q kaggle"
      ]
    },
    {
      "cell_type": "markdown",
      "source": [
        "the Kaggle Python package is installed using pip, with the -q flag to suppressthe Kaggle Python package is installed using pip, with the -q flag to suppress"
      ],
      "metadata": {
        "id": "TUgCf6XF3ORc"
      }
    },
    {
      "cell_type": "code",
      "execution_count": null,
      "metadata": {
        "id": "Ju71gGS_FxoM"
      },
      "outputs": [],
      "source": [
        "from google.colab import files\n",
        "files.upload()"
      ]
    },
    {
      "cell_type": "markdown",
      "source": [
        "The files.upload() function from google.colab is used to prompt the user to upload files to the Google Colab environment. It allows users to select and upload files from their local machine to be used in the Colab notebook."
      ],
      "metadata": {
        "id": "OzabJJHb3VAj"
      }
    },
    {
      "cell_type": "code",
      "execution_count": null,
      "metadata": {
        "id": "hmxMeSU1Gwky"
      },
      "outputs": [],
      "source": [
        "# Create a Kaggle Directory\n",
        "! mkdir ~/.kaggle"
      ]
    },
    {
      "cell_type": "code",
      "execution_count": null,
      "metadata": {
        "id": "i9mvzvV4HO1I"
      },
      "outputs": [],
      "source": [
        "! cp kaggle.json ~/.kaggle/\n",
        "# copy the kaggle.jasn to created folder"
      ]
    },
    {
      "cell_type": "code",
      "execution_count": null,
      "metadata": {
        "id": "WOWY2OgvJmfm"
      },
      "outputs": [],
      "source": [
        "! cp kaggle.json /content/KaggleDataSets"
      ]
    },
    {
      "cell_type": "code",
      "execution_count": null,
      "metadata": {
        "id": "iRbyBSKdKD5N"
      },
      "outputs": [],
      "source": [
        "# to grant premission to jasn to act\n",
        "! chmod 600 ~/.kaggle/kaggle.json"
      ]
    },
    {
      "cell_type": "code",
      "execution_count": null,
      "metadata": {
        "colab": {
          "base_uri": "https://localhost:8080/"
        },
        "id": "ehX8v5uuLp9E",
        "outputId": "95906f2f-523b-4179-9fb3-43bb7f6ce07e"
      },
      "outputs": [
        {
          "name": "stdout",
          "output_type": "stream",
          "text": [
            "ref                                                             title                                                size  lastUpdated          downloadCount  voteCount  usabilityRating  \n",
            "--------------------------------------------------------------  --------------------------------------------------  -----  -------------------  -------------  ---------  ---------------  \n",
            "alphiree/cardiovascular-diseases-risk-prediction-dataset        Cardiovascular Diseases Risk Prediction Dataset       5MB  2023-07-03 12:12:19           4582        192  1.0              \n",
            "nelgiriyewithana/countries-of-the-world-2023                    Global Country Information Dataset 2023              23KB  2023-07-08 20:37:33           3372        127  1.0              \n",
            "arnavsmayan/netflix-userbase-dataset                            Netflix Userbase Dataset                             25KB  2023-07-04 07:38:41           4591         92  1.0              \n",
            "byomokeshsenapati/spotify-song-attributes                       Spotify Song Attributes                             883KB  2023-07-09 16:00:20            715         29  1.0              \n",
            "sumangoda/food-prices                                           Vital Food Costs: A Five-Nation Analysis 2018-2022    8KB  2023-07-16 19:33:29            493         23  1.0              \n",
            "floatingcoder/tmdb-20000-movies-dataset                         Tmdb 20000 movies dataset 2023                      468KB  2023-07-17 15:44:29            482         23  1.0              \n",
            "iamsouravbanerjee/data-science-salaries-2023                    Latest Data Science Salaries                         67KB  2023-07-22 07:42:40           2256         80  1.0              \n",
            "abhijitdahatonde/swiggy-restuarant-dataset                      Swiggy Restuarants dataset                          251KB  2023-07-17 11:44:18            660         21  1.0              \n",
            "rm1000/fortune-500-companies                                    Fortune 500 Companies                               360KB  2023-07-11 01:35:05            955         33  1.0              \n",
            "harishkumardatalab/housing-price-prediction                     Housing Price Prediction                              5KB  2023-07-07 04:34:24           1292         37  1.0              \n",
            "khushipitroda/stock-market-historical-data-of-top-10-companies  Stock Market: Historical Data of Top 10 Companies   476KB  2023-07-18 10:28:12            463         22  1.0              \n",
            "nathaniellybrand/los-angeles-crime-dataset-2020-present         Los Angeles Crime Dataset (2020 -- Present)          37MB  2023-07-09 16:28:16            457         23  1.0              \n",
            "subhajournal/wine-quality-data-combined                         Wine Quality Data (Combined)                        660KB  2023-07-17 16:51:13            389         25  1.0              \n",
            "ujjwalwadhwa/cars24com-used-cars-dataset                        Cars24.com Used Cars dataset                        131KB  2023-07-16 11:04:03            675         23  1.0              \n",
            "howisusmanali/house-prices-2023-dataset                         House Prices 2023 Dataset                            12MB  2023-07-18 03:07:38            564         23  1.0              \n",
            "sanjanchaudhari/employees-performance-for-hr-analytics          Employee’s Performance for HR Analytics             205KB  2023-07-20 09:08:10            469         29  0.7647059        \n",
            "khushipitroda/imdb-top-250-tv-shows                             IMDB Top 250 TV Shows                                35KB  2023-07-18 13:08:14            348         21  1.0              \n",
            "swathiunnikrishnan/amazon-consumer-behaviour-dataset            Amazon consumer Behaviour Dataset                    15KB  2023-07-06 07:21:42           1697         49  1.0              \n",
            "uom190346a/sleep-health-and-lifestyle-dataset                   Sleep Health and Lifestyle Dataset                    3KB  2023-05-26 10:24:31           8376        179  1.0              \n",
            "manishkumar7432698/airline-passangers-booking-data              Airline Customer Holiday Booking Dataset              2MB  2023-07-17 20:19:27           1694         48  1.0              \n"
          ]
        }
      ],
      "source": [
        "# to list all datasets available in kaggle\n",
        "! kaggle datasets list"
      ]
    },
    {
      "cell_type": "markdown",
      "source": [
        "The ! at the beginning indicates that the command is executed in the command line or shell within the Colab environment. The command kaggle datasets list is used to list all available datasets on Kaggle, providing users with information about the datasets available for use or exploration."
      ],
      "metadata": {
        "id": "NnTAcywz3dCs"
      }
    },
    {
      "cell_type": "code",
      "execution_count": null,
      "metadata": {
        "colab": {
          "base_uri": "https://localhost:8080/"
        },
        "id": "-dzQnykML8Wc",
        "outputId": "ccc6d500-7bbd-449d-991d-fc3fe17bccfc"
      },
      "outputs": [
        {
          "name": "stdout",
          "output_type": "stream",
          "text": [
            "Downloading dogs-vs-cats.zip to /content\n",
            "100% 812M/812M [00:30<00:00, 30.3MB/s]\n",
            "100% 812M/812M [00:30<00:00, 28.1MB/s]\n"
          ]
        }
      ],
      "source": [
        "! kaggle competitions download -c dogs-vs-cats"
      ]
    },
    {
      "cell_type": "markdown",
      "source": [
        "The Kaggle API is used to download the dataset for the \"Dogs vs. Cats\" competition in Google Colab. The command fetches the necessary files for the competition, allowing users to access the data and participate in the challenge."
      ],
      "metadata": {
        "id": "3cKohOPs3gyq"
      }
    },
    {
      "cell_type": "code",
      "execution_count": null,
      "metadata": {
        "colab": {
          "base_uri": "https://localhost:8080/"
        },
        "id": "Ir7lWjpgOAvF",
        "outputId": "813f3c51-e9e5-44ec-ec30-48c8637398df"
      },
      "outputs": [
        {
          "name": "stdout",
          "output_type": "stream",
          "text": [
            "Archive:  dogs-vs-cats.zip\n",
            "  inflating: sampleSubmission.csv    \n",
            "  inflating: test1.zip               \n",
            "  inflating: train.zip               \n"
          ]
        }
      ],
      "source": [
        "! unzip dogs-vs-cats.zip"
      ]
    },
    {
      "cell_type": "code",
      "execution_count": null,
      "metadata": {
        "id": "z_JFBlBZOJ9K"
      },
      "outputs": [],
      "source": [
        "! unzip test1.zip\n",
        "! unzip train.zip"
      ]
    },
    {
      "cell_type": "code",
      "execution_count": null,
      "metadata": {
        "id": "OhddW8HHOV6v"
      },
      "outputs": [],
      "source": [
        "import os, shutil"
      ]
    },
    {
      "cell_type": "markdown",
      "source": [
        "The os and shutil modules are imported, enabling you to perform file and directory operations, such as copying, moving, or deleting files and folders, in Python."
      ],
      "metadata": {
        "id": "-0GOdkS03k_q"
      }
    },
    {
      "cell_type": "code",
      "execution_count": null,
      "metadata": {
        "id": "m9LcVfbvXTJ5"
      },
      "outputs": [],
      "source": [
        "original_dataset_dir = '/content/train/'"
      ]
    },
    {
      "cell_type": "markdown",
      "source": [
        "The variable original_dataset_dir is set to the directory path '/content/train/', which represents the location of the original dataset. This directory is likely used as the source from which data is loaded or processed in subsequent operations."
      ],
      "metadata": {
        "id": "UKj8RMKO3pEy"
      }
    },
    {
      "cell_type": "markdown",
      "metadata": {
        "id": "46JSk2xdZZ1V"
      },
      "source": []
    },
    {
      "cell_type": "code",
      "execution_count": null,
      "metadata": {
        "id": "S1k7LmkXXb11"
      },
      "outputs": [],
      "source": [
        "base_dir = '/content/UntitledFolder/'\n"
      ]
    },
    {
      "cell_type": "markdown",
      "source": [
        "The variable base_dir is set to the directory path '/content/UntitledFolder/', which represents the base directory where a new folder or project will be created. This directory can be used as the root location to organize and store files and data related to a specific task or project."
      ],
      "metadata": {
        "id": "N1ORcdDh3s9a"
      }
    },
    {
      "cell_type": "code",
      "execution_count": null,
      "metadata": {
        "id": "j1NTbeviXj8h"
      },
      "outputs": [],
      "source": [
        "train_dir =os.path.join(base_dir, 'train')\n",
        "os.mkdir(train_dir)"
      ]
    },
    {
      "cell_type": "markdown",
      "source": [
        "The variable train_dir is created by joining the base_dir and the folder name 'train' using the os.path.join() function. Then, the os.mkdir() function is used to create a new directory named 'train' within the base_dir directory, where training data can be stored or organized."
      ],
      "metadata": {
        "id": "F-NZODq24Frx"
      }
    },
    {
      "cell_type": "code",
      "execution_count": null,
      "metadata": {
        "id": "shYnfnKzYZ6v"
      },
      "outputs": [],
      "source": [
        "validation_dir =os.path.join(base_dir, 'validation')\n",
        "os.mkdir(validation_dir)"
      ]
    },
    {
      "cell_type": "markdown",
      "source": [
        "The variable validation_dir is created by joining the base_dir and the folder name 'validation' using the os.path.join() function. Then, the os.mkdir() function is used to create a new directory named 'train' within the base_dir directory, where training data can be stored or organized."
      ],
      "metadata": {
        "id": "zAj0Ct4W4Iji"
      }
    },
    {
      "cell_type": "code",
      "execution_count": null,
      "metadata": {
        "id": "_VWk18ztZpYY"
      },
      "outputs": [],
      "source": [
        "test_dir =os.path.join(base_dir, 'test')\n",
        "os.mkdir(test_dir)"
      ]
    },
    {
      "cell_type": "markdown",
      "source": [
        "The variable test_dir is created by joining the base_dir and the folder name 'test' using the os.path.join() function. Then, the os.mkdir() function is used to create a new directory named 'train' within the base_dir directory, where training data can be stored or organized."
      ],
      "metadata": {
        "id": "WO27DO0w4NZa"
      }
    },
    {
      "cell_type": "code",
      "execution_count": null,
      "metadata": {
        "id": "4h3a06zXaRdn"
      },
      "outputs": [],
      "source": [
        "train_cats_dir =os.path.join(train_dir, 'cats')\n",
        "os.mkdir(train_cats_dir)"
      ]
    },
    {
      "cell_type": "code",
      "execution_count": null,
      "metadata": {
        "id": "PFUI32xUajbb"
      },
      "outputs": [],
      "source": [
        "train_dogs_dir = os.path.join(train_dir, 'dogs')\n",
        "os.mkdir(train_dogs_dir)"
      ]
    },
    {
      "cell_type": "code",
      "execution_count": null,
      "metadata": {
        "id": "oAxP5ey5azK9"
      },
      "outputs": [],
      "source": [
        "validation_cats_dir =os.path.join(validation_dir, 'cats')\n",
        "os.mkdir(validation_cats_dir)"
      ]
    },
    {
      "cell_type": "code",
      "execution_count": null,
      "metadata": {
        "id": "yQ80nSLObCj2"
      },
      "outputs": [],
      "source": [
        "validation_dogs_dir = os.path.join(validation_dir, 'dogs')\n",
        "os.mkdir(validation_dogs_dir)"
      ]
    },
    {
      "cell_type": "code",
      "execution_count": null,
      "metadata": {
        "id": "ZzRY6ODbbTdX"
      },
      "outputs": [],
      "source": [
        "test_cats_dir = os.path.join(test_dir, 'cats')\n",
        "os.mkdir(test_cats_dir)"
      ]
    },
    {
      "cell_type": "code",
      "execution_count": null,
      "metadata": {
        "id": "MnL4r00qbhzk"
      },
      "outputs": [],
      "source": [
        "test_dogs_dir = os.path.join(test_dir, 'dogs')\n",
        "os.mkdir(test_dogs_dir)"
      ]
    },
    {
      "cell_type": "code",
      "execution_count": null,
      "metadata": {
        "id": "hWf6OSF2bzY9"
      },
      "outputs": [],
      "source": [
        "fnames = ['cat.{}.jpg'.format(i) for i in range(1000)]\n",
        "for fname in fnames:\n",
        "  srs= os.path.join(original_dataset_dir, fname)\n",
        "  dst =os.path.join(train_cats_dir, fname)\n",
        "  shutil.copyfile(srs, dst)"
      ]
    },
    {
      "cell_type": "markdown",
      "source": [
        " Here i am copying 1000 cat images with filenames in the format 'cat.i.jpg', where i ranges from 0 to 999, from the original_dataset_dir to the train_cats_dir."
      ],
      "metadata": {
        "id": "ibK1kenA4Sh-"
      }
    },
    {
      "cell_type": "code",
      "execution_count": null,
      "metadata": {
        "id": "dg_ZRGnNdHVA"
      },
      "outputs": [],
      "source": [
        "fnames = ['cat.{}.jpg'.format(i) for i in range(1000,1500)]\n",
        "for fname in fnames:\n",
        "  srs = os.path.join(original_dataset_dir, fname)\n",
        "  dst = os.path.join(validation_cats_dir, fname)\n",
        "  shutil.copyfile(srs, dst)"
      ]
    },
    {
      "cell_type": "markdown",
      "source": [
        "Here i copies 500 cat images with filenames in the format 'cat.i.jpg', where i ranges from 1000 to 1499, from the original_dataset_dir to the validation_cats_dir."
      ],
      "metadata": {
        "id": "1m3k8Duc42H6"
      }
    },
    {
      "cell_type": "code",
      "execution_count": null,
      "metadata": {
        "id": "CLj6IPNYeCvt"
      },
      "outputs": [],
      "source": [
        "fnames = ['cat.{}.jpg'.format(i) for i in range(1500, 2000)]\n",
        "for fname in fnames:\n",
        "  srs = os.path.join(original_dataset_dir, fname)\n",
        "  dst = os.path.join(test_cats_dir, fname)\n",
        "  shutil.copyfile(srs, dst)"
      ]
    },
    {
      "cell_type": "markdown",
      "source": [
        "Here i am copying 500 cat images with filenames in the format 'cat.i.jpg', where i ranges from 1500 to 1999, from the original_dataset_dir to the test_cats_dir"
      ],
      "metadata": {
        "id": "GvH91Q1E5Jxw"
      }
    },
    {
      "cell_type": "code",
      "execution_count": null,
      "metadata": {
        "id": "yXu5rgZieqH9"
      },
      "outputs": [],
      "source": [
        "fnames = ['dog.{}.jpg'.format(i) for i in range(1000)]\n",
        "for fname in fnames:\n",
        "  src = os.path.join(original_dataset_dir, fname)\n",
        "  dst = os.path.join(train_dogs_dir, fname)\n",
        "  shutil.copyfile(src, dst)"
      ]
    },
    {
      "cell_type": "markdown",
      "source": [
        "Here i am copying 1000 dog images with filenames in the format 'dog.i.jpg', where i ranges from 0 to 999, from the original_dataset_dir to the train_dogs_dir."
      ],
      "metadata": {
        "id": "J4-eTs1B5iSS"
      }
    },
    {
      "cell_type": "markdown",
      "source": [],
      "metadata": {
        "id": "K-cIa2uf5dkJ"
      }
    },
    {
      "cell_type": "code",
      "execution_count": null,
      "metadata": {
        "id": "X5q8mUdUf45z"
      },
      "outputs": [],
      "source": [
        "fnames = ['dog.{}.jpg'.format(i) for i in range(1000, 1500)]\n",
        "for fname in fnames:\n",
        "  srs =os.path.join(original_dataset_dir, fname)\n",
        "  dst = os.path.join(validation_dogs_dir, fname)\n",
        "  shutil.copyfile(srs, dst)"
      ]
    },
    {
      "cell_type": "markdown",
      "source": [
        " Here i am copying 500 dog images with filenames in the format 'dog.i.jpg', where i ranges from 1000 to 1499, from the original_dataset_dir to the validation_dogs_dir."
      ],
      "metadata": {
        "id": "TqoER7qI6_jK"
      }
    },
    {
      "cell_type": "code",
      "execution_count": null,
      "metadata": {
        "id": "tfTmWmt6gaSP"
      },
      "outputs": [],
      "source": [
        "fnames = ['dog.{}.jpg'.format(i) for i in range(1500, 2000)]\n",
        "for fname in fnames:\n",
        "  srs = os.path.join(original_dataset_dir, fname)\n",
        "  dst = os.path.join(test_dogs_dir, fname)\n",
        "  shutil.copyfile(srs, dst)"
      ]
    },
    {
      "cell_type": "markdown",
      "source": [
        "Here i am copying 500 dog images with filenames in the format 'dog.i.jpg', where i ranges from 1500 to 1999, from the original_dataset_dir to the test_dogs_dir."
      ],
      "metadata": {
        "id": "an7iESw77Iux"
      }
    },
    {
      "cell_type": "code",
      "execution_count": null,
      "metadata": {
        "colab": {
          "base_uri": "https://localhost:8080/"
        },
        "id": "4ZoVpJNEg6Kf",
        "outputId": "44c77377-a8aa-4749-804c-6ee45bd6ed86"
      },
      "outputs": [
        {
          "name": "stdout",
          "output_type": "stream",
          "text": [
            "total training cats images 1000\n",
            "total training dogs images 1000\n"
          ]
        }
      ],
      "source": [
        "print('total training cats images', len(os.listdir(train_cats_dir)))\n",
        "print('total training dogs images', len(os.listdir(train_dogs_dir)))"
      ]
    },
    {
      "cell_type": "markdown",
      "source": [
        "The total number of training images for both cats and dogs classes in the specified directories."
      ],
      "metadata": {
        "id": "PO0XYFfE7UK7"
      }
    },
    {
      "cell_type": "code",
      "execution_count": null,
      "metadata": {
        "colab": {
          "base_uri": "https://localhost:8080/"
        },
        "id": "Mu2OzQbPhSJF",
        "outputId": "6963ecaf-c93c-401f-eb5f-80c0c5b409e8"
      },
      "outputs": [
        {
          "name": "stdout",
          "output_type": "stream",
          "text": [
            "total validation cats images 500\n",
            "total validation dogs images 500\n"
          ]
        }
      ],
      "source": [
        "print('total validation cats images', len(os.listdir(validation_cats_dir)))\n",
        "print('total validation dogs images', len(os.listdir(validation_dogs_dir)))"
      ]
    },
    {
      "cell_type": "markdown",
      "source": [
        "The total number of validation images for both cats and dogs classes in the specified directories."
      ],
      "metadata": {
        "id": "Mzcx2S1B7aBr"
      }
    },
    {
      "cell_type": "code",
      "execution_count": null,
      "metadata": {
        "colab": {
          "base_uri": "https://localhost:8080/"
        },
        "id": "pO5N1boTjnoe",
        "outputId": "8c2163dc-920f-4781-afc7-ff34d84e1012"
      },
      "outputs": [
        {
          "name": "stdout",
          "output_type": "stream",
          "text": [
            "total test cats images 500\n",
            "total test dogs images 500\n"
          ]
        }
      ],
      "source": [
        "print('total test cats images', len(os.listdir(test_cats_dir)))\n",
        "print('total test dogs images', len(os.listdir(test_dogs_dir)))"
      ]
    },
    {
      "cell_type": "markdown",
      "source": [
        "The total number of test images for both cats and dogs classes in the specified directories."
      ],
      "metadata": {
        "id": "uBh6F2T37di6"
      }
    },
    {
      "cell_type": "code",
      "execution_count": 7,
      "metadata": {
        "id": "RuY6NYJukQ2u"
      },
      "outputs": [],
      "source": [
        "from keras import models\n",
        "from keras import layers"
      ]
    },
    {
      "cell_type": "code",
      "execution_count": null,
      "metadata": {
        "id": "AWe_7LAzoGk7"
      },
      "outputs": [],
      "source": [
        "model =models.Sequential()\n",
        "model.add(layers.Conv2D(32, (3,3), activation = 'relu', input_shape = (150,150,3)))\n",
        "model.add(layers.MaxPooling2D(2,2))\n",
        "model.add(layers.Conv2D(64, (3,3), activation = 'relu'))\n",
        "model.add(layers.MaxPooling2D(2,2))\n",
        "model.add(layers.Conv2D(128,(3,3), activation = 'relu'))\n",
        "model.add(layers.MaxPooling2D(2,2))\n",
        "model.add(layers.Conv2D(128, (3,3), activation = 'relu'))\n",
        "model.add(layers.MaxPooling2D(2,2))\n",
        "model.add(layers.Flatten())\n",
        "model.add(layers.Dense(512, activation = 'relu'))\n",
        "model.add(layers.Dense(1, activation = 'sigmoid'))"
      ]
    },
    {
      "cell_type": "markdown",
      "source": [
        "Here i defines a sequential model in Keras for image classification. It consists of multiple Conv2D and MaxPooling2D layers, followed by a Flatten layer to convert the 2D feature maps to a 1D vector. It then includes two dense layers with ReLU activation and a final dense layer with sigmoid activation for binary classification (sigmoid outputs a probability between 0 and 1 for binary classification)."
      ],
      "metadata": {
        "id": "FdRPbUAi7quO"
      }
    },
    {
      "cell_type": "code",
      "execution_count": null,
      "metadata": {
        "colab": {
          "base_uri": "https://localhost:8080/"
        },
        "id": "hJEERLXeoaaL",
        "outputId": "9bec8e6b-d0e8-402e-9a22-3316e60e3e34"
      },
      "outputs": [
        {
          "name": "stdout",
          "output_type": "stream",
          "text": [
            "Model: \"sequential\"\n",
            "_________________________________________________________________\n",
            " Layer (type)                Output Shape              Param #   \n",
            "=================================================================\n",
            " conv2d (Conv2D)             (None, 148, 148, 32)      896       \n",
            "                                                                 \n",
            " max_pooling2d (MaxPooling2D  (None, 74, 74, 32)       0         \n",
            " )                                                               \n",
            "                                                                 \n",
            " conv2d_1 (Conv2D)           (None, 72, 72, 64)        18496     \n",
            "                                                                 \n",
            " max_pooling2d_1 (MaxPooling  (None, 36, 36, 64)       0         \n",
            " 2D)                                                             \n",
            "                                                                 \n",
            " conv2d_2 (Conv2D)           (None, 34, 34, 128)       73856     \n",
            "                                                                 \n",
            " max_pooling2d_2 (MaxPooling  (None, 17, 17, 128)      0         \n",
            " 2D)                                                             \n",
            "                                                                 \n",
            " conv2d_3 (Conv2D)           (None, 15, 15, 128)       147584    \n",
            "                                                                 \n",
            " max_pooling2d_3 (MaxPooling  (None, 7, 7, 128)        0         \n",
            " 2D)                                                             \n",
            "                                                                 \n",
            " flatten (Flatten)           (None, 6272)              0         \n",
            "                                                                 \n",
            " dense (Dense)               (None, 512)               3211776   \n",
            "                                                                 \n",
            " dense_1 (Dense)             (None, 1)                 513       \n",
            "                                                                 \n",
            "=================================================================\n",
            "Total params: 3,453,121\n",
            "Trainable params: 3,453,121\n",
            "Non-trainable params: 0\n",
            "_________________________________________________________________\n"
          ]
        }
      ],
      "source": [
        "model.summary()"
      ]
    },
    {
      "cell_type": "markdown",
      "source": [
        "The provided summary describes a neural network model for image classification. It consists of four convolutional layers with max-pooling, followed by a flatten layer to convert the 2D feature maps to a 1D vector. The model then includes two dense layers with ReLU activation, and a final dense layer with sigmoid activation for binary classification. The model has a total of 3,453,121 trainable parameters."
      ],
      "metadata": {
        "id": "R8iUozWN8BFc"
      }
    },
    {
      "cell_type": "markdown",
      "source": [
        "Here i displayed the summary of the model."
      ],
      "metadata": {
        "id": "ueeP2n6P7t9K"
      }
    },
    {
      "cell_type": "code",
      "execution_count": 21,
      "metadata": {
        "id": "cl4UZKJRpzRR"
      },
      "outputs": [],
      "source": [
        "from keras import optimizers"
      ]
    },
    {
      "cell_type": "code",
      "execution_count": null,
      "metadata": {
        "id": "GXI_WvRqp-wq"
      },
      "outputs": [],
      "source": [
        "model.compile(loss='binary_crossentropy',optimizer=optimizers.RMSprop(learning_rate=1e-4),metrics=['acc'])"
      ]
    },
    {
      "cell_type": "markdown",
      "source": [
        "Here i compiles the neural network model using binary cross-entropy as the loss function, RMSprop optimizer with a learning rate of 1e-4, and accuracy as the evaluation metric."
      ],
      "metadata": {
        "id": "yvED9rZA8lDU"
      }
    },
    {
      "cell_type": "code",
      "execution_count": null,
      "metadata": {
        "id": "8idMispwqfIG"
      },
      "outputs": [],
      "source": [
        "from keras.preprocessing.image import ImageDataGenerator"
      ]
    },
    {
      "cell_type": "code",
      "execution_count": null,
      "metadata": {
        "id": "kHjIKBZYrYSG"
      },
      "outputs": [],
      "source": [
        "train_datagen = ImageDataGenerator(rescale = 1./255)\n",
        "test_datagen = ImageDataGenerator(rescale = 1./255)"
      ]
    },
    {
      "cell_type": "markdown",
      "source": [
        "The code sets up two image data generators, train_datagen and test_datagen, which are used for data preprocessing and augmentation during training and testing. The rescale parameter is set to 1./255, which means the pixel values of the images will be scaled to the range [0, 1]."
      ],
      "metadata": {
        "id": "kysMuetT8yJ-"
      }
    },
    {
      "cell_type": "code",
      "execution_count": null,
      "metadata": {
        "colab": {
          "base_uri": "https://localhost:8080/"
        },
        "id": "dPJKpqHZrtPu",
        "outputId": "f19f6e7c-f0a2-4f4a-ab5e-9f4c304b848c"
      },
      "outputs": [
        {
          "name": "stdout",
          "output_type": "stream",
          "text": [
            "Found 2000 images belonging to 2 classes.\n"
          ]
        }
      ],
      "source": [
        "train_generator = train_datagen.flow_from_directory(\n",
        "train_dir,\n",
        "target_size=(150, 150),\n",
        "batch_size=20,\n",
        "class_mode='binary')"
      ]
    },
    {
      "cell_type": "markdown",
      "source": [
        "The code creates a train_generator using the flow_from_directory method of the train_datagen. It generates batches of training data from the directory specified by train_dir. The images are resized to a target size of (150, 150), and each batch contains 20 images. The class mode is set to 'binary' because it is a binary classification task (two classes - cats and dogs)."
      ],
      "metadata": {
        "id": "svZLvCET9HBu"
      }
    },
    {
      "cell_type": "code",
      "execution_count": null,
      "metadata": {
        "colab": {
          "base_uri": "https://localhost:8080/"
        },
        "id": "Xi4Xc8P5sSoa",
        "outputId": "c94c37c0-7538-43cd-c84a-b96357137ba2"
      },
      "outputs": [
        {
          "name": "stdout",
          "output_type": "stream",
          "text": [
            "Found 1000 images belonging to 2 classes.\n"
          ]
        }
      ],
      "source": [
        "validation_generator = test_datagen.flow_from_directory(validation_dir, target_size=(150,150), batch_size=20, class_mode='binary')"
      ]
    },
    {
      "cell_type": "markdown",
      "source": [
        "The code creates a validation_generator using the flow_from_directory method of the test_datagen. It generates batches of validation data from the directory specified by validation_dir. The images are resized to a target size of (150, 150), and each batch contains 20 images. The class mode is set to 'binary' because it is a binary classification task (two classes - cats and dogs) used for validation during model training."
      ],
      "metadata": {
        "id": "zGxD-Smt9UjV"
      }
    },
    {
      "cell_type": "code",
      "execution_count": null,
      "metadata": {
        "colab": {
          "base_uri": "https://localhost:8080/"
        },
        "id": "405z8d7ps9kB",
        "outputId": "e06c1b09-71f6-49c9-935e-cc3bec924794"
      },
      "outputs": [
        {
          "name": "stdout",
          "output_type": "stream",
          "text": [
            "Data batch shape (20, 150, 150, 3)\n",
            "Data labels Shape (20,)\n"
          ]
        }
      ],
      "source": [
        "for data_batch, labels_batch in train_generator:\n",
        "  print('Data batch shape', data_batch.shape)\n",
        "  print('Data labels Shape', labels_batch.shape)\n",
        "  break"
      ]
    },
    {
      "cell_type": "code",
      "execution_count": null,
      "metadata": {
        "colab": {
          "base_uri": "https://localhost:8080/"
        },
        "id": "ElInYi3svojU",
        "outputId": "648d269d-8d4b-4dd1-f478-5719fbb790e4"
      },
      "outputs": [
        {
          "name": "stdout",
          "output_type": "stream",
          "text": [
            "Data batch shape (20, 150, 150, 3)\n",
            "Data labels Shape (20,)\n"
          ]
        }
      ],
      "source": [
        "for data_batch, labels_batch in validation_generator:\n",
        "  print('Data batch shape', data_batch.shape)\n",
        "  print('Data labels Shape', labels_batch.shape)\n",
        "  break"
      ]
    },
    {
      "cell_type": "code",
      "execution_count": null,
      "metadata": {
        "id": "bUt6nXMS0-bT"
      },
      "outputs": [],
      "source": [
        "history = model.fit_generator(train_generator, steps_per_epoch=100, epochs= 30, validation_data = validation_generator, validation_steps=50 )"
      ]
    },
    {
      "cell_type": "markdown",
      "source": [
        "The code trains the model using the fit_generator function. It uses the train_generator to provide training data and the validation_generator to provide validation data. The model is trained for 30 epochs, and for each epoch, it performs 100 steps using the training data and 50 steps using the validation data. The training progress and evaluation results are stored in the history variable."
      ],
      "metadata": {
        "id": "BxV46o6r9fr7"
      }
    },
    {
      "cell_type": "code",
      "execution_count": null,
      "metadata": {
        "id": "1ujguf8f1yDA"
      },
      "outputs": [],
      "source": [
        "model.save('cats_and_dogs_small_1.h5')"
      ]
    },
    {
      "cell_type": "markdown",
      "source": [
        "The code saves the trained model to a file named 'cats_and_dogs_small_1.h5'. This file will contain the model's architecture, weights, and other relevant information, allowing you to load and reuse the model in the future without having to retrain it."
      ],
      "metadata": {
        "id": "LPKn6r_F9nUj"
      }
    },
    {
      "cell_type": "code",
      "execution_count": null,
      "metadata": {
        "id": "YCzxXYldJ-Y5"
      },
      "outputs": [],
      "source": [
        "import matplotlib.pyplot as plt\n",
        "acc = history.history['acc']\n",
        "val_acc = history.history['val_acc']\n",
        "loss = history.history['loss']\n",
        "val_loss = history.history['val_loss']\n",
        "epochs = range(1, len(acc) + 1)\n",
        "plt.plot(epochs, acc, 'bo', label='Training acc')\n",
        "plt.plot(epochs, val_acc, 'b', label='Validation acc')\n",
        "plt.title('Training and validation accuracy')\n",
        "plt.legend()\n",
        "plt.figure()\n",
        "plt.plot(epochs, loss, 'bo', label='Training loss')\n",
        "plt.plot(epochs, val_loss, 'b', label='Validation loss')\n",
        "plt.title('Training and validation loss')\n",
        "plt.legend()\n",
        "plt.show()"
      ]
    },
    {
      "cell_type": "markdown",
      "source": [
        "The code uses Matplotlib to plot the training and validation accuracy in one figure and the training and validation loss in another figure. It uses blue dots for the training accuracy and loss, and solid blue lines for the validation accuracy and loss. The title and legends are added to the plots for better understanding, and finally, the plots are displayed using plt.show()."
      ],
      "metadata": {
        "id": "0bEj53E49xhT"
      }
    },
    {
      "cell_type": "code",
      "execution_count": null,
      "metadata": {
        "id": "aCCMkC6AKBlI"
      },
      "outputs": [],
      "source": [
        "datagen = ImageDataGenerator(rotation_range=40, width_shift_range=2.0, height_shift_range=2.0, shear_range=2.0, zoom_range=2.0, horizontal_flip=True, fill_mode='nearest')"
      ]
    },
    {
      "cell_type": "markdown",
      "source": [
        "The code creates an `ImageDataGenerator` object called `datagen`, which will be used for data augmentation. It applies various transformations to the images during training, such as rotation (up to 40 degrees), horizontal and vertical shifting (up to 2.0 pixels), shearing (up to 2.0), zooming (up to 2.0 times), horizontal flipping, and filling any missing pixels after transformations using the 'nearest' method. These augmentations help increase the diversity of the training data and can improve the model's generalization and performance."
      ],
      "metadata": {
        "id": "2L_HUGcj_d8q"
      }
    },
    {
      "cell_type": "code",
      "execution_count": null,
      "metadata": {
        "id": "BwAAzJ5piq36"
      },
      "outputs": [],
      "source": [
        "from keras.preprocessing import image"
      ]
    },
    {
      "cell_type": "code",
      "execution_count": null,
      "metadata": {
        "id": "LVFr7ZJ9i58B"
      },
      "outputs": [],
      "source": [
        "fnames = [os.path.join(train_cats_dir, fname) for\n",
        "          fname in os.listdir(train_cats_dir)]"
      ]
    },
    {
      "cell_type": "markdown",
      "source": [
        "The code creates a list called fnames, which contains the file paths of all the image files in the train_cats_dir directory. It uses a list comprehension to iterate through the files in the directory and joins the file name with the directory path using os.path.join() function. This list will be used for further processing, such as feeding the image data into the model during training."
      ],
      "metadata": {
        "id": "-0MQNwD1_qzD"
      }
    },
    {
      "cell_type": "code",
      "execution_count": null,
      "metadata": {
        "id": "LVIaPI4snBOK"
      },
      "outputs": [],
      "source": [
        "from keras.layers.serialization import activation\n",
        "model =models.Sequential()\n",
        "model.add(layers.Conv2D(32,(3,3), activation = 'relu', input_shape =(150,150,3)))\n",
        "model.add(layers.MaxPooling2D(2,2))\n",
        "model.add(layers.Conv2D(64, (3,3), activation = 'relu'))\n",
        "model.add(layers.MaxPooling2D(2,2))\n",
        "model.add(layers.Conv2D(128, (3,3), activation = 'relu'))\n",
        "model.add(layers.MaxPooling2D(2,2))\n",
        "model.add(layers.Conv2D(128, (3,3), activation = 'relu'))\n",
        "model.add(layers.MaxPooling2D(2,2))\n",
        "model.add(layers.Flatten())\n",
        "model.add(layers.Dropout(0.5))\n",
        "model.add(layers.Dense(512, activation = 'relu'))\n",
        "model.add(layers.Dense(1, activation = 'sigmoid'))\n",
        "model.compile(loss='binary_crossentropy',optimizer=optimizers.RMSprop(learning_rate=1e-4),metrics=['acc'])"
      ]
    },
    {
      "cell_type": "markdown",
      "source": [
        "The code defines a deep learning model using Keras. The model consists of several layers, including Conv2D layers with ReLU activation, MaxPooling2D layers, a Flatten layer, a Dropout layer with dropout rate of 0.5, and two Dense layers with ReLU and sigmoid activations, respectively. The model is designed for binary classification tasks, where the input images have a shape of (150, 150, 3). In last we compiled it."
      ],
      "metadata": {
        "id": "oXOIXSa7_7si"
      }
    },
    {
      "cell_type": "code",
      "execution_count": null,
      "metadata": {
        "colab": {
          "base_uri": "https://localhost:8080/"
        },
        "id": "HOifgUwSoTQn",
        "outputId": "ee0c834e-77c5-433b-b5dd-26bbc4621495"
      },
      "outputs": [
        {
          "name": "stdout",
          "output_type": "stream",
          "text": [
            "Model: \"sequential_1\"\n",
            "_________________________________________________________________\n",
            " Layer (type)                Output Shape              Param #   \n",
            "=================================================================\n",
            " conv2d_4 (Conv2D)           (None, 148, 148, 32)      896       \n",
            "                                                                 \n",
            " max_pooling2d_4 (MaxPooling  (None, 74, 74, 32)       0         \n",
            " 2D)                                                             \n",
            "                                                                 \n",
            " conv2d_5 (Conv2D)           (None, 72, 72, 64)        18496     \n",
            "                                                                 \n",
            " max_pooling2d_5 (MaxPooling  (None, 36, 36, 64)       0         \n",
            " 2D)                                                             \n",
            "                                                                 \n",
            " conv2d_6 (Conv2D)           (None, 34, 34, 128)       73856     \n",
            "                                                                 \n",
            " max_pooling2d_6 (MaxPooling  (None, 17, 17, 128)      0         \n",
            " 2D)                                                             \n",
            "                                                                 \n",
            " conv2d_7 (Conv2D)           (None, 15, 15, 128)       147584    \n",
            "                                                                 \n",
            " max_pooling2d_7 (MaxPooling  (None, 7, 7, 128)        0         \n",
            " 2D)                                                             \n",
            "                                                                 \n",
            " flatten_1 (Flatten)         (None, 6272)              0         \n",
            "                                                                 \n",
            " dropout (Dropout)           (None, 6272)              0         \n",
            "                                                                 \n",
            " dense_2 (Dense)             (None, 512)               3211776   \n",
            "                                                                 \n",
            " dense_3 (Dense)             (None, 1)                 513       \n",
            "                                                                 \n",
            "=================================================================\n",
            "Total params: 3,453,121\n",
            "Trainable params: 3,453,121\n",
            "Non-trainable params: 0\n",
            "_________________________________________________________________\n"
          ]
        }
      ],
      "source": [
        "model.summary()\n"
      ]
    },
    {
      "cell_type": "code",
      "execution_count": null,
      "metadata": {
        "id": "eGiV7wpMogyP"
      },
      "outputs": [],
      "source": [
        "train_datagen = ImageDataGenerator(\n",
        "    rescale = 1./255,\n",
        "    rotation_range = 40,\n",
        "    width_shift_range=2.0,\n",
        "    height_shift_range= 2.0,\n",
        "    shear_range= 2.0,\n",
        "    zoom_range=2.0,\n",
        "    horizontal_flip=True\n",
        ")"
      ]
    },
    {
      "cell_type": "markdown",
      "source": [
        "The code initializes an ImageDataGenerator for training data with various data augmentation techniques, including rescaling the pixel values to the range [0, 1], random rotation up to 40 degrees, random shifts in width and height up to 2.0 times the original size, shear transformation up to 2.0, zooming in and out up to 2.0, and horizontal flipping. This data generator is useful for creating augmented batches of training images, which helps improve the model's generalization and robustness."
      ],
      "metadata": {
        "id": "Yb0V7ODkAgUT"
      }
    },
    {
      "cell_type": "code",
      "execution_count": null,
      "metadata": {
        "id": "-5NviUT0zeAW"
      },
      "outputs": [],
      "source": [
        "test_datagen = ImageDataGenerator(rescale= 1./255)"
      ]
    },
    {
      "cell_type": "code",
      "execution_count": null,
      "metadata": {
        "colab": {
          "base_uri": "https://localhost:8080/"
        },
        "id": "Educd_RRz5PE",
        "outputId": "4e9c95a3-c278-460f-95e4-79d634822e56"
      },
      "outputs": [
        {
          "name": "stdout",
          "output_type": "stream",
          "text": [
            "Found 2000 images belonging to 2 classes.\n"
          ]
        }
      ],
      "source": [
        "train_data_generator = train_datagen.flow_from_directory(\n",
        "    train_dir,\n",
        "    target_size=(150, 150),\n",
        "    batch_size=20,\n",
        "    class_mode='binary'\n",
        ")\n",
        "\n"
      ]
    },
    {
      "cell_type": "markdown",
      "source": [
        "The code sets up a data generator `train_data_generator` using the previously defined `train_datagen`. It will generate batches of training data from the `train_dir` directory, where the images are resized to (150, 150) pixels, the batch size is set to 20, and the class mode is set to binary (since it's a binary classification problem - cats vs. dogs). This generator will be used for training the model using the `fit_generator` method."
      ],
      "metadata": {
        "id": "hoe5vHPaAqLV"
      }
    },
    {
      "cell_type": "code",
      "execution_count": null,
      "metadata": {
        "colab": {
          "base_uri": "https://localhost:8080/"
        },
        "id": "x-GPMvej05lO",
        "outputId": "274708a0-6ea6-4e42-e44e-f087db5396a9"
      },
      "outputs": [
        {
          "name": "stdout",
          "output_type": "stream",
          "text": [
            "Found 1000 images belonging to 2 classes.\n"
          ]
        }
      ],
      "source": [
        "validation_generator = test_datagen.flow_from_directory(validation_dir, target_size=(150,150), batch_size=20, class_mode ='binary')"
      ]
    },
    {
      "cell_type": "markdown",
      "source": [
        "The code sets up another data generator `validation_generator` using the `test_datagen`. It will generate batches of validation data from the `validation_dir` directory, where the images are resized to (150, 150) pixels, the batch size is set to 20, and the class mode is set to binary (since it's a binary classification problem - cats vs. dogs). This generator will be used for validating the model's performance during training using the `fit_generator` method."
      ],
      "metadata": {
        "id": "f8XskB5wAyMj"
      }
    },
    {
      "cell_type": "code",
      "execution_count": null,
      "metadata": {
        "id": "3DURvZ-jlM9c"
      },
      "outputs": [],
      "source": [
        "from keras.callbacks import ModelCheckpoint\n",
        "checkpoint = ModelCheckpoint('model_check_point.h5', monitor = 'val_loss', save_best_only=True, save_weights_only= False, verbose= 1)"
      ]
    },
    {
      "cell_type": "markdown",
      "source": [
        "The code imports the `ModelCheckpoint` callback from Keras. It creates an instance of `ModelCheckpoint` with the following arguments:\n",
        "- `'model_check_point.h5'`: The filename to save the model.\n",
        "- `monitor='val_loss'`: The metric to monitor for saving the best model, which is the validation loss in this case.\n",
        "- `save_best_only=True`: It indicates to only save the model when the validation loss improves from the previous best.\n",
        "- `save_weights_only=False`: It indicates to save the entire model (including architecture and optimizer state) rather than just the weights.\n",
        "- `verbose=1`: It specifies the verbosity level, setting it to 1 will show a progress bar when saving the model."
      ],
      "metadata": {
        "id": "HKBkTjDjA6zs"
      }
    },
    {
      "cell_type": "code",
      "execution_count": null,
      "metadata": {
        "id": "1uOYSVPK1rB8"
      },
      "outputs": [],
      "source": [
        "history = model.fit_generator(\n",
        "train_generator,\n",
        "steps_per_epoch=100,\n",
        "epochs=20,\n",
        "validation_data=validation_generator,\n",
        "validation_steps=50,callbacks =[checkpoint] )"
      ]
    },
    {
      "cell_type": "code",
      "execution_count": null,
      "metadata": {
        "id": "xka6dtuz2wRE"
      },
      "outputs": [],
      "source": [
        "model.save('cats_and_dogs_small_2.h5')"
      ]
    },
    {
      "cell_type": "code",
      "execution_count": 20,
      "metadata": {
        "id": "y0ECS1lm2Tzq"
      },
      "outputs": [],
      "source": [
        "import matplotlib.pyplot as plt\n"
      ]
    },
    {
      "cell_type": "code",
      "execution_count": null,
      "metadata": {
        "id": "Md8TTi382fi3"
      },
      "outputs": [],
      "source": [
        "acc = history.history['acc']\n",
        "val_acc = history.history['val_acc']\n",
        "loss = history.history['loss']\n",
        "val_loss = history.history['val_loss']\n",
        "epochs = range(1, len(acc)+1)"
      ]
    },
    {
      "cell_type": "code",
      "execution_count": null,
      "metadata": {
        "id": "ziFEUglB3Kps"
      },
      "outputs": [],
      "source": [
        "plt.plot(epochs, acc, 'bo', label = 'training accuracy' )\n",
        "plt.plot(epochs, val_acc, 'b', label = 'validation_accuracy')\n",
        "plt.title('training and validation accuracy with augmentation')\n",
        "plt.legend()\n",
        "plt.figure()\n",
        "plt.plot(epochs, loss, 'bo', label ='training_loss')\n",
        "plt.plot(epochs, val_loss, 'b', label = 'validation_loss')\n",
        "plt.title('training and validation loss with augmentation')\n",
        "plt.legend()"
      ]
    },
    {
      "cell_type": "code",
      "execution_count": 9,
      "metadata": {
        "id": "JVm-99jS4idG"
      },
      "outputs": [],
      "source": [
        "from keras.applications import VGG16"
      ]
    },
    {
      "cell_type": "code",
      "execution_count": 10,
      "metadata": {
        "colab": {
          "base_uri": "https://localhost:8080/"
        },
        "id": "qPo394fxqYjU",
        "outputId": "590ec329-5834-4a9f-d775-e87554d6f21a"
      },
      "outputs": [
        {
          "output_type": "stream",
          "name": "stdout",
          "text": [
            "Downloading data from https://storage.googleapis.com/tensorflow/keras-applications/vgg16/vgg16_weights_tf_dim_ordering_tf_kernels_notop.h5\n",
            "58889256/58889256 [==============================] - 3s 0us/step\n"
          ]
        }
      ],
      "source": [
        "conve_base =VGG16(weights='imagenet', include_top=False, input_shape= (150, 150, 3))"
      ]
    },
    {
      "cell_type": "markdown",
      "source": [
        "The code imports the VGG16 model with pre-trained weights from the 'imagenet' dataset. It sets `include_top` to False, which means the top (classification) layers of the VGG16 model are not included. It also specifies the input shape of the model to be (150, 150, 3) for 3-channel color images of size 150x150 pixels. This configuration allows the VGG16 model to be used as a feature extractor for a custom classification task."
      ],
      "metadata": {
        "id": "SAi9kNZEBTlu"
      }
    },
    {
      "cell_type": "code",
      "execution_count": null,
      "metadata": {
        "colab": {
          "base_uri": "https://localhost:8080/"
        },
        "id": "uTMAGTZ7sNAi",
        "outputId": "0df94593-a051-40bc-a2e5-2186ef10594a"
      },
      "outputs": [
        {
          "data": {
            "text/plain": [
              "<bound method Model.summary of <keras.engine.functional.Functional object at 0x7b1b97141e10>>"
            ]
          },
          "execution_count": 59,
          "metadata": {},
          "output_type": "execute_result"
        }
      ],
      "source": [
        "conve_base.summary"
      ]
    },
    {
      "cell_type": "code",
      "execution_count": 18,
      "metadata": {
        "id": "67PkwwkwsSI5"
      },
      "outputs": [],
      "source": [
        "import numpy as np"
      ]
    },
    {
      "cell_type": "code",
      "execution_count": 19,
      "metadata": {
        "id": "h25Mzf7Aam8z"
      },
      "outputs": [],
      "source": [
        "# Extracting features using the pretrained convolutional base\n",
        "from keras.preprocessing.image import ImageDataGenerator"
      ]
    },
    {
      "cell_type": "code",
      "execution_count": null,
      "metadata": {
        "id": "yqGAnlt2a8fr"
      },
      "outputs": [],
      "source": [
        "base_dir = '/content/UntitledFolder'\n",
        "train_dir =os.path.join(base_dir, 'train')"
      ]
    },
    {
      "cell_type": "code",
      "execution_count": null,
      "metadata": {
        "id": "yZFeVWPqbkfc"
      },
      "outputs": [],
      "source": [
        "validation_dir = os.path.join(base_dir, 'validation')\n",
        "test_dir = os.path.join(base_dir, 'test')"
      ]
    },
    {
      "cell_type": "code",
      "execution_count": null,
      "metadata": {
        "id": "e6V27n4ubzeu"
      },
      "outputs": [],
      "source": [
        "datagen = ImageDataGenerator(rescale=1./255)\n",
        "batch_size = 20"
      ]
    },
    {
      "cell_type": "code",
      "execution_count": null,
      "metadata": {
        "id": "5EAPVwPJcSkd"
      },
      "outputs": [],
      "source": [
        "\n",
        "def extract_features(directory, sample_count):\n",
        "\n",
        "  features = np.zeros(shape= (sample_count, 4, 4, 512))\n",
        "  labels = np.zeros(shape=(sample_count))\n",
        "  generator = datagen.flow_from_directory(\n",
        "      directory,\n",
        "      target_size= (150 , 150),\n",
        "      batch_size = batch_size,\n",
        "      class_mode = 'binary'\n",
        "    )\n",
        "  i = 0\n",
        "  for inputs_batch, labels_batch in generator:\n",
        "    features_batch = conve_base.predict(inputs_batch)\n",
        "    features[i * batch_size : (i + 1) * batch_size] = features_batch\n",
        "    labels[ i * batch_size : (i + 1) * batch_size] = labels_batch\n",
        "    i += 1\n",
        "    if i * batch_size>= sample_count:\n",
        "      break\n",
        "    return features, labels\n",
        "\n",
        "\n"
      ]
    },
    {
      "cell_type": "markdown",
      "source": [
        "The given code defines a function extract_features that takes a directory and the total number of samples as input. It initializes empty arrays features and labels to store the extracted features and corresponding labels. The function uses the datagen generator to retrieve batches of data and their labels from the specified directory. It then passes each batch of data through the pre-trained VGG16 model (conve_base) to extract features, and saves the features and labels in the respective arrays. The function returns the extracted features and labels."
      ],
      "metadata": {
        "id": "l3t69T4KClNG"
      }
    },
    {
      "cell_type": "code",
      "execution_count": null,
      "metadata": {
        "colab": {
          "base_uri": "https://localhost:8080/"
        },
        "id": "FOoiGq2-c3A2",
        "outputId": "512633f4-e2f9-487b-cbae-da30fe746fbf"
      },
      "outputs": [
        {
          "name": "stdout",
          "output_type": "stream",
          "text": [
            "Found 2000 images belonging to 2 classes.\n",
            "1/1 [==============================] - 7s 7s/step\n"
          ]
        }
      ],
      "source": [
        "train_features, train_labels = extract_features(train_dir, 2000)"
      ]
    },
    {
      "cell_type": "code",
      "execution_count": null,
      "metadata": {
        "colab": {
          "base_uri": "https://localhost:8080/"
        },
        "id": "guuvuW4IhufR",
        "outputId": "81231556-918d-46bc-cf9c-89d6b798d552"
      },
      "outputs": [
        {
          "name": "stdout",
          "output_type": "stream",
          "text": [
            "Found 1000 images belonging to 2 classes.\n",
            "1/1 [==============================] - 5s 5s/step\n"
          ]
        }
      ],
      "source": [
        "validation_features, validation_labels = extract_features(validation_dir, 1000)"
      ]
    },
    {
      "cell_type": "code",
      "execution_count": null,
      "metadata": {
        "colab": {
          "base_uri": "https://localhost:8080/"
        },
        "id": "r8_MnaArjrNZ",
        "outputId": "ca6a0806-6723-4814-fd22-d1193bbbf61e"
      },
      "outputs": [
        {
          "name": "stdout",
          "output_type": "stream",
          "text": [
            "Found 1000 images belonging to 2 classes.\n",
            "1/1 [==============================] - 5s 5s/step\n"
          ]
        }
      ],
      "source": [
        "test_features, test_labels = extract_features(test_dir, 1000)"
      ]
    },
    {
      "cell_type": "code",
      "execution_count": null,
      "metadata": {
        "colab": {
          "base_uri": "https://localhost:8080/"
        },
        "id": "W5TdfpSMj6CN",
        "outputId": "75fb9794-1630-4009-c569-ea3fab00b321"
      },
      "outputs": [
        {
          "data": {
            "text/plain": [
              "(2000, 4, 4, 512)"
            ]
          },
          "execution_count": 69,
          "metadata": {},
          "output_type": "execute_result"
        }
      ],
      "source": [
        "train_features.shape"
      ]
    },
    {
      "cell_type": "code",
      "execution_count": null,
      "metadata": {
        "colab": {
          "base_uri": "https://localhost:8080/"
        },
        "id": "U4UOPsnckCyu",
        "outputId": "c993e59a-ef2d-415f-eb36-991f2ab0127e"
      },
      "outputs": [
        {
          "data": {
            "text/plain": [
              "(2000, 8192)"
            ]
          },
          "execution_count": 70,
          "metadata": {},
          "output_type": "execute_result"
        }
      ],
      "source": [
        "train_features = np.reshape(train_features, (2000, 4*4*512))\n",
        "train_features.shape"
      ]
    },
    {
      "cell_type": "code",
      "execution_count": null,
      "metadata": {
        "colab": {
          "base_uri": "https://localhost:8080/"
        },
        "id": "xPFqGczCkjEr",
        "outputId": "1e79b304-3f09-4195-ab30-ca69cc9d7eac"
      },
      "outputs": [
        {
          "data": {
            "text/plain": [
              "(1000, 8192)"
            ]
          },
          "execution_count": 71,
          "metadata": {},
          "output_type": "execute_result"
        }
      ],
      "source": [
        "validation_features = np.reshape(validation_features, (1000, 4*4*512))\n",
        "validation_features.shape"
      ]
    },
    {
      "cell_type": "code",
      "execution_count": null,
      "metadata": {
        "colab": {
          "base_uri": "https://localhost:8080/"
        },
        "id": "jfMDi06fk7uS",
        "outputId": "bb1c7a00-69cf-4e18-b1e5-30b14bea5a11"
      },
      "outputs": [
        {
          "data": {
            "text/plain": [
              "(1000, 8192)"
            ]
          },
          "execution_count": 72,
          "metadata": {},
          "output_type": "execute_result"
        }
      ],
      "source": [
        "test_features =np.reshape(test_features, (1000, 4*4*512))\n",
        "test_features.shape"
      ]
    },
    {
      "cell_type": "code",
      "execution_count": 11,
      "metadata": {
        "id": "BokbFpt5lEdw"
      },
      "outputs": [],
      "source": [
        "model = models.Sequential()\n",
        "model.add(layers.Dense(256, activation = 'relu', input_dim =4*4*512 ))\n",
        "model.add(layers.Dropout(0.5))\n",
        "model.add(layers.Dense(1, activation ='sigmoid'))\n"
      ]
    },
    {
      "cell_type": "markdown",
      "source": [
        "The code defines a sequential model in Keras. It starts with a dense layer having 256 units and ReLU activation function. The input dimension is set to `4*4*512`, which corresponds to the flattened output shape of the VGG16 model's last layer. A dropout layer with a rate of 0.5 is added to prevent overfitting. Finally, it ends with a dense layer with 1 unit and a sigmoid activation function for binary classification. This model is likely to be used in conjunction with the extracted features from the VGG16 model for binary classification tasks."
      ],
      "metadata": {
        "id": "2K9CoBgIDBg_"
      }
    },
    {
      "cell_type": "code",
      "execution_count": null,
      "metadata": {
        "id": "y8O0eWBZnbYl"
      },
      "outputs": [],
      "source": [
        "model.compile(optimizer = optimizers.RMSprop(learning_rate=2e-5), loss = 'binary_crossentropy', metrics =['acc'])"
      ]
    },
    {
      "cell_type": "code",
      "execution_count": null,
      "metadata": {
        "id": "9BrveHY6s6O8"
      },
      "outputs": [],
      "source": [
        "from keras.callbacks import ModelCheckpoint\n",
        "check_point = ModelCheckpoint('dogs-vs-cats-with-features-extration.h5',monitor='val_loss', save_best_only=True, save_weights_only=False, verbose =1 )\n",
        "\n"
      ]
    },
    {
      "cell_type": "markdown",
      "source": [
        "The code imports the `ModelCheckpoint` callback from Keras, which allows you to save the model's weights or entire model during training. It creates a callback object named `check_point` with the following settings:\n",
        "- `'dogs-vs-cats-with-features-extration.h5'`: The filename to save the model.\n",
        "- `monitor='val_loss'`: It monitors the validation loss during training.\n",
        "- `save_best_only=True`: It saves the model only if the validation loss has improved.\n",
        "- `save_weights_only=False`: It saves the entire model (not just weights).\n",
        "- `verbose=1`: It displays progress updates during training."
      ],
      "metadata": {
        "id": "UrW3efBADJ6W"
      }
    },
    {
      "cell_type": "code",
      "execution_count": null,
      "metadata": {
        "colab": {
          "base_uri": "https://localhost:8080/"
        },
        "id": "fhuVeTGatKMC",
        "outputId": "2e9be79a-40f7-45a5-bdb8-1923e50bacd0"
      },
      "outputs": [
        {
          "name": "stdout",
          "output_type": "stream",
          "text": [
            "Epoch 1/200\n",
            "100/100 [==============================] - ETA: 0s - loss: 7.1840e-08 - acc: 1.0000\n",
            "Epoch 1: val_loss did not improve from 0.01310\n",
            "100/100 [==============================] - 3s 31ms/step - loss: 7.1840e-08 - acc: 1.0000 - val_loss: 0.0146 - val_acc: 0.9980\n",
            "Epoch 2/200\n",
            "100/100 [==============================] - ETA: 0s - loss: 9.2793e-08 - acc: 1.0000\n",
            "Epoch 2: val_loss did not improve from 0.01310\n",
            "100/100 [==============================] - 3s 30ms/step - loss: 9.2793e-08 - acc: 1.0000 - val_loss: 0.0146 - val_acc: 0.9980\n",
            "Epoch 3/200\n",
            " 99/100 [============================>.] - ETA: 0s - loss: 7.4479e-08 - acc: 1.0000\n",
            "Epoch 3: val_loss did not improve from 0.01310\n",
            "100/100 [==============================] - 2s 22ms/step - loss: 7.4162e-08 - acc: 1.0000 - val_loss: 0.0146 - val_acc: 0.9980\n",
            "Epoch 4/200\n",
            " 99/100 [============================>.] - ETA: 0s - loss: 1.1388e-07 - acc: 1.0000\n",
            "Epoch 4: val_loss did not improve from 0.01310\n",
            "100/100 [==============================] - 2s 21ms/step - loss: 1.1354e-07 - acc: 1.0000 - val_loss: 0.0146 - val_acc: 0.9980\n",
            "Epoch 5/200\n",
            "100/100 [==============================] - ETA: 0s - loss: 6.9450e-08 - acc: 1.0000\n",
            "Epoch 5: val_loss did not improve from 0.01310\n",
            "100/100 [==============================] - 2s 22ms/step - loss: 6.9450e-08 - acc: 1.0000 - val_loss: 0.0147 - val_acc: 0.9980\n",
            "Epoch 6/200\n",
            "100/100 [==============================] - ETA: 0s - loss: 6.0173e-08 - acc: 1.0000\n",
            "Epoch 6: val_loss did not improve from 0.01310\n",
            "100/100 [==============================] - 3s 33ms/step - loss: 6.0173e-08 - acc: 1.0000 - val_loss: 0.0147 - val_acc: 0.9980\n",
            "Epoch 7/200\n",
            " 99/100 [============================>.] - ETA: 0s - loss: 7.6722e-08 - acc: 1.0000\n",
            "Epoch 7: val_loss did not improve from 0.01310\n",
            "100/100 [==============================] - 4s 40ms/step - loss: 7.6410e-08 - acc: 1.0000 - val_loss: 0.0146 - val_acc: 0.9980\n",
            "Epoch 8/200\n",
            " 98/100 [============================>.] - ETA: 0s - loss: 6.1287e-08 - acc: 1.0000\n",
            "Epoch 8: val_loss did not improve from 0.01310\n",
            "100/100 [==============================] - 3s 28ms/step - loss: 6.0652e-08 - acc: 1.0000 - val_loss: 0.0146 - val_acc: 0.9980\n",
            "Epoch 9/200\n",
            " 99/100 [============================>.] - ETA: 0s - loss: 4.8090e-08 - acc: 1.0000\n",
            "Epoch 9: val_loss did not improve from 0.01310\n",
            "100/100 [==============================] - 2s 21ms/step - loss: 4.7967e-08 - acc: 1.0000 - val_loss: 0.0146 - val_acc: 0.9980\n",
            "Epoch 10/200\n",
            "100/100 [==============================] - ETA: 0s - loss: 6.5616e-08 - acc: 1.0000\n",
            "Epoch 10: val_loss did not improve from 0.01310\n",
            "100/100 [==============================] - 2s 22ms/step - loss: 6.5616e-08 - acc: 1.0000 - val_loss: 0.0146 - val_acc: 0.9980\n",
            "Epoch 11/200\n",
            "100/100 [==============================] - ETA: 0s - loss: 5.5006e-08 - acc: 1.0000\n",
            "Epoch 11: val_loss did not improve from 0.01310\n",
            "100/100 [==============================] - 2s 21ms/step - loss: 5.5006e-08 - acc: 1.0000 - val_loss: 0.0146 - val_acc: 0.9980\n",
            "Epoch 12/200\n",
            "100/100 [==============================] - ETA: 0s - loss: 5.3485e-08 - acc: 1.0000\n",
            "Epoch 12: val_loss did not improve from 0.01310\n",
            "100/100 [==============================] - 2s 22ms/step - loss: 5.3485e-08 - acc: 1.0000 - val_loss: 0.0146 - val_acc: 0.9980\n",
            "Epoch 13/200\n",
            "100/100 [==============================] - ETA: 0s - loss: 6.1578e-08 - acc: 1.0000\n",
            "Epoch 13: val_loss did not improve from 0.01310\n",
            "100/100 [==============================] - 3s 30ms/step - loss: 6.1578e-08 - acc: 1.0000 - val_loss: 0.0146 - val_acc: 0.9980\n",
            "Epoch 14/200\n",
            " 99/100 [============================>.] - ETA: 0s - loss: 5.2437e-08 - acc: 1.0000\n",
            "Epoch 14: val_loss did not improve from 0.01310\n",
            "100/100 [==============================] - 3s 29ms/step - loss: 5.2203e-08 - acc: 1.0000 - val_loss: 0.0146 - val_acc: 0.9980\n",
            "Epoch 15/200\n",
            "100/100 [==============================] - ETA: 0s - loss: 6.4873e-08 - acc: 1.0000\n",
            "Epoch 15: val_loss did not improve from 0.01310\n",
            "100/100 [==============================] - 2s 21ms/step - loss: 6.4873e-08 - acc: 1.0000 - val_loss: 0.0146 - val_acc: 0.9980\n",
            "Epoch 16/200\n",
            " 99/100 [============================>.] - ETA: 0s - loss: 5.1508e-08 - acc: 1.0000\n",
            "Epoch 16: val_loss did not improve from 0.01310\n",
            "100/100 [==============================] - 2s 22ms/step - loss: 5.2411e-08 - acc: 1.0000 - val_loss: 0.0146 - val_acc: 0.9980\n",
            "Epoch 17/200\n",
            "100/100 [==============================] - ETA: 0s - loss: 5.0690e-08 - acc: 1.0000\n",
            "Epoch 17: val_loss did not improve from 0.01310\n",
            "100/100 [==============================] - 2s 21ms/step - loss: 5.0690e-08 - acc: 1.0000 - val_loss: 0.0146 - val_acc: 0.9980\n",
            "Epoch 18/200\n",
            "100/100 [==============================] - ETA: 0s - loss: 4.7749e-08 - acc: 1.0000\n",
            "Epoch 18: val_loss did not improve from 0.01310\n",
            "100/100 [==============================] - 2s 22ms/step - loss: 4.7749e-08 - acc: 1.0000 - val_loss: 0.0146 - val_acc: 0.9980\n",
            "Epoch 19/200\n",
            "100/100 [==============================] - ETA: 0s - loss: 5.4702e-08 - acc: 1.0000\n",
            "Epoch 19: val_loss did not improve from 0.01310\n",
            "100/100 [==============================] - 3s 32ms/step - loss: 5.4702e-08 - acc: 1.0000 - val_loss: 0.0146 - val_acc: 0.9980\n",
            "Epoch 20/200\n",
            " 98/100 [============================>.] - ETA: 0s - loss: 5.7668e-08 - acc: 1.0000\n",
            "Epoch 20: val_loss did not improve from 0.01310\n",
            "100/100 [==============================] - 3s 27ms/step - loss: 5.7630e-08 - acc: 1.0000 - val_loss: 0.0146 - val_acc: 0.9980\n",
            "Epoch 21/200\n",
            "100/100 [==============================] - ETA: 0s - loss: 5.6828e-08 - acc: 1.0000\n",
            "Epoch 21: val_loss did not improve from 0.01310\n",
            "100/100 [==============================] - 2s 21ms/step - loss: 5.6828e-08 - acc: 1.0000 - val_loss: 0.0146 - val_acc: 0.9980\n",
            "Epoch 22/200\n",
            "100/100 [==============================] - ETA: 0s - loss: 4.4328e-08 - acc: 1.0000\n",
            "Epoch 22: val_loss did not improve from 0.01310\n",
            "100/100 [==============================] - 2s 21ms/step - loss: 4.4328e-08 - acc: 1.0000 - val_loss: 0.0146 - val_acc: 0.9980\n",
            "Epoch 23/200\n",
            "100/100 [==============================] - ETA: 0s - loss: 5.7206e-08 - acc: 1.0000\n",
            "Epoch 23: val_loss did not improve from 0.01310\n",
            "100/100 [==============================] - 2s 22ms/step - loss: 5.7206e-08 - acc: 1.0000 - val_loss: 0.0146 - val_acc: 0.9980\n",
            "Epoch 24/200\n",
            " 98/100 [============================>.] - ETA: 0s - loss: 8.9177e-08 - acc: 1.0000\n",
            "Epoch 24: val_loss did not improve from 0.01310\n",
            "100/100 [==============================] - 2s 23ms/step - loss: 8.7709e-08 - acc: 1.0000 - val_loss: 0.0146 - val_acc: 0.9980\n",
            "Epoch 25/200\n",
            "100/100 [==============================] - ETA: 0s - loss: 6.5066e-08 - acc: 1.0000\n",
            "Epoch 25: val_loss did not improve from 0.01310\n",
            "100/100 [==============================] - 3s 32ms/step - loss: 6.5066e-08 - acc: 1.0000 - val_loss: 0.0146 - val_acc: 0.9980\n",
            "Epoch 26/200\n",
            " 99/100 [============================>.] - ETA: 0s - loss: 5.4307e-08 - acc: 1.0000\n",
            "Epoch 26: val_loss did not improve from 0.01310\n",
            "100/100 [==============================] - 3s 27ms/step - loss: 5.4063e-08 - acc: 1.0000 - val_loss: 0.0146 - val_acc: 0.9980\n",
            "Epoch 27/200\n",
            " 99/100 [============================>.] - ETA: 0s - loss: 3.8441e-08 - acc: 1.0000\n",
            "Epoch 27: val_loss did not improve from 0.01310\n",
            "100/100 [==============================] - 2s 21ms/step - loss: 3.8204e-08 - acc: 1.0000 - val_loss: 0.0146 - val_acc: 0.9980\n",
            "Epoch 28/200\n",
            " 99/100 [============================>.] - ETA: 0s - loss: 6.2377e-08 - acc: 1.0000\n",
            "Epoch 28: val_loss did not improve from 0.01310\n",
            "100/100 [==============================] - 2s 22ms/step - loss: 6.1883e-08 - acc: 1.0000 - val_loss: 0.0146 - val_acc: 0.9980\n",
            "Epoch 29/200\n",
            " 99/100 [============================>.] - ETA: 0s - loss: 4.4329e-08 - acc: 1.0000\n",
            "Epoch 29: val_loss did not improve from 0.01310\n",
            "100/100 [==============================] - 2s 21ms/step - loss: 4.4734e-08 - acc: 1.0000 - val_loss: 0.0146 - val_acc: 0.9980\n",
            "Epoch 30/200\n",
            "100/100 [==============================] - ETA: 0s - loss: 7.5731e-08 - acc: 1.0000\n",
            "Epoch 30: val_loss did not improve from 0.01310\n",
            "100/100 [==============================] - 2s 22ms/step - loss: 7.5731e-08 - acc: 1.0000 - val_loss: 0.0146 - val_acc: 0.9980\n",
            "Epoch 31/200\n",
            " 99/100 [============================>.] - ETA: 0s - loss: 5.1761e-08 - acc: 1.0000\n",
            "Epoch 31: val_loss did not improve from 0.01310\n",
            "100/100 [==============================] - 3s 33ms/step - loss: 5.1334e-08 - acc: 1.0000 - val_loss: 0.0146 - val_acc: 0.9980\n",
            "Epoch 32/200\n",
            " 98/100 [============================>.] - ETA: 0s - loss: 4.9512e-08 - acc: 1.0000\n",
            "Epoch 32: val_loss did not improve from 0.01310\n",
            "100/100 [==============================] - 3s 27ms/step - loss: 4.8912e-08 - acc: 1.0000 - val_loss: 0.0146 - val_acc: 0.9980\n",
            "Epoch 33/200\n",
            "100/100 [==============================] - ETA: 0s - loss: 4.4600e-08 - acc: 1.0000\n",
            "Epoch 33: val_loss did not improve from 0.01310\n",
            "100/100 [==============================] - 2s 21ms/step - loss: 4.4600e-08 - acc: 1.0000 - val_loss: 0.0146 - val_acc: 0.9980\n",
            "Epoch 34/200\n",
            " 99/100 [============================>.] - ETA: 0s - loss: 3.7885e-08 - acc: 1.0000\n",
            "Epoch 34: val_loss did not improve from 0.01310\n",
            "100/100 [==============================] - 2s 22ms/step - loss: 3.7668e-08 - acc: 1.0000 - val_loss: 0.0146 - val_acc: 0.9980\n",
            "Epoch 35/200\n",
            "100/100 [==============================] - ETA: 0s - loss: 3.3207e-08 - acc: 1.0000\n",
            "Epoch 35: val_loss did not improve from 0.01310\n",
            "100/100 [==============================] - 3s 31ms/step - loss: 3.3207e-08 - acc: 1.0000 - val_loss: 0.0146 - val_acc: 0.9980\n",
            "Epoch 36/200\n",
            " 99/100 [============================>.] - ETA: 0s - loss: 4.8373e-08 - acc: 1.0000\n",
            "Epoch 36: val_loss did not improve from 0.01310\n",
            "100/100 [==============================] - 2s 24ms/step - loss: 4.8888e-08 - acc: 1.0000 - val_loss: 0.0146 - val_acc: 0.9980\n",
            "Epoch 37/200\n",
            " 99/100 [============================>.] - ETA: 0s - loss: 7.7801e-08 - acc: 1.0000\n",
            "Epoch 37: val_loss did not improve from 0.01310\n",
            "100/100 [==============================] - 3s 35ms/step - loss: 7.7204e-08 - acc: 1.0000 - val_loss: 0.0146 - val_acc: 0.9980\n",
            "Epoch 38/200\n",
            " 99/100 [============================>.] - ETA: 0s - loss: 4.7812e-08 - acc: 1.0000\n",
            "Epoch 38: val_loss did not improve from 0.01310\n",
            "100/100 [==============================] - 2s 24ms/step - loss: 4.7750e-08 - acc: 1.0000 - val_loss: 0.0146 - val_acc: 0.9980\n",
            "Epoch 39/200\n",
            "100/100 [==============================] - ETA: 0s - loss: 4.1420e-08 - acc: 1.0000\n",
            "Epoch 39: val_loss did not improve from 0.01310\n",
            "100/100 [==============================] - 2s 21ms/step - loss: 4.1420e-08 - acc: 1.0000 - val_loss: 0.0146 - val_acc: 0.9980\n",
            "Epoch 40/200\n",
            "100/100 [==============================] - ETA: 0s - loss: 4.6946e-08 - acc: 1.0000\n",
            "Epoch 40: val_loss did not improve from 0.01310\n",
            "100/100 [==============================] - 2s 21ms/step - loss: 4.6946e-08 - acc: 1.0000 - val_loss: 0.0146 - val_acc: 0.9980\n",
            "Epoch 41/200\n",
            "100/100 [==============================] - ETA: 0s - loss: 6.4621e-08 - acc: 1.0000\n",
            "Epoch 41: val_loss did not improve from 0.01310\n",
            "100/100 [==============================] - 2s 22ms/step - loss: 6.4621e-08 - acc: 1.0000 - val_loss: 0.0146 - val_acc: 0.9980\n",
            "Epoch 42/200\n",
            "100/100 [==============================] - ETA: 0s - loss: 3.9386e-08 - acc: 1.0000\n",
            "Epoch 42: val_loss did not improve from 0.01310\n",
            "100/100 [==============================] - 3s 28ms/step - loss: 3.9386e-08 - acc: 1.0000 - val_loss: 0.0146 - val_acc: 0.9980\n",
            "Epoch 43/200\n",
            "100/100 [==============================] - ETA: 0s - loss: 3.3452e-08 - acc: 1.0000\n",
            "Epoch 43: val_loss did not improve from 0.01310\n",
            "100/100 [==============================] - 3s 34ms/step - loss: 3.3452e-08 - acc: 1.0000 - val_loss: 0.0146 - val_acc: 0.9980\n",
            "Epoch 44/200\n",
            " 98/100 [============================>.] - ETA: 0s - loss: 3.7098e-08 - acc: 1.0000\n",
            "Epoch 44: val_loss did not improve from 0.01310\n",
            "100/100 [==============================] - 2s 23ms/step - loss: 3.7132e-08 - acc: 1.0000 - val_loss: 0.0146 - val_acc: 0.9980\n",
            "Epoch 45/200\n",
            " 99/100 [============================>.] - ETA: 0s - loss: 4.5336e-08 - acc: 1.0000\n",
            "Epoch 45: val_loss did not improve from 0.01310\n",
            "100/100 [==============================] - 2s 22ms/step - loss: 4.5227e-08 - acc: 1.0000 - val_loss: 0.0146 - val_acc: 0.9980\n",
            "Epoch 46/200\n",
            " 99/100 [============================>.] - ETA: 0s - loss: 3.6855e-08 - acc: 1.0000\n",
            "Epoch 46: val_loss did not improve from 0.01310\n",
            "100/100 [==============================] - 2s 23ms/step - loss: 3.6671e-08 - acc: 1.0000 - val_loss: 0.0146 - val_acc: 0.9980\n",
            "Epoch 47/200\n",
            " 99/100 [============================>.] - ETA: 0s - loss: 2.8925e-08 - acc: 1.0000\n",
            "Epoch 47: val_loss did not improve from 0.01310\n",
            "100/100 [==============================] - 2s 22ms/step - loss: 2.9075e-08 - acc: 1.0000 - val_loss: 0.0146 - val_acc: 0.9980\n",
            "Epoch 48/200\n",
            " 99/100 [============================>.] - ETA: 0s - loss: 4.7955e-08 - acc: 1.0000\n",
            "Epoch 48: val_loss did not improve from 0.01310\n",
            "100/100 [==============================] - 3s 27ms/step - loss: 4.8084e-08 - acc: 1.0000 - val_loss: 0.0146 - val_acc: 0.9980\n",
            "Epoch 49/200\n",
            " 99/100 [============================>.] - ETA: 0s - loss: 4.2226e-08 - acc: 1.0000\n",
            "Epoch 49: val_loss did not improve from 0.01310\n",
            "100/100 [==============================] - 3s 34ms/step - loss: 4.6138e-08 - acc: 1.0000 - val_loss: 0.0146 - val_acc: 0.9980\n",
            "Epoch 50/200\n",
            "100/100 [==============================] - ETA: 0s - loss: 4.1765e-08 - acc: 1.0000\n",
            "Epoch 50: val_loss did not improve from 0.01310\n",
            "100/100 [==============================] - 2s 21ms/step - loss: 4.1765e-08 - acc: 1.0000 - val_loss: 0.0146 - val_acc: 0.9980\n",
            "Epoch 51/200\n",
            "100/100 [==============================] - ETA: 0s - loss: 3.6140e-08 - acc: 1.0000\n",
            "Epoch 51: val_loss did not improve from 0.01310\n",
            "100/100 [==============================] - 2s 23ms/step - loss: 3.6140e-08 - acc: 1.0000 - val_loss: 0.0146 - val_acc: 0.9980\n",
            "Epoch 52/200\n",
            " 99/100 [============================>.] - ETA: 0s - loss: 3.2768e-08 - acc: 1.0000\n",
            "Epoch 52: val_loss did not improve from 0.01310\n",
            "100/100 [==============================] - 2s 21ms/step - loss: 3.2856e-08 - acc: 1.0000 - val_loss: 0.0146 - val_acc: 0.9980\n",
            "Epoch 53/200\n",
            " 99/100 [============================>.] - ETA: 0s - loss: 3.4555e-08 - acc: 1.0000\n",
            "Epoch 53: val_loss did not improve from 0.01310\n",
            "100/100 [==============================] - 2s 21ms/step - loss: 3.4311e-08 - acc: 1.0000 - val_loss: 0.0146 - val_acc: 0.9980\n",
            "Epoch 54/200\n",
            " 99/100 [============================>.] - ETA: 0s - loss: 3.9804e-08 - acc: 1.0000\n",
            "Epoch 54: val_loss did not improve from 0.01310\n",
            "100/100 [==============================] - 3s 27ms/step - loss: 4.2430e-08 - acc: 1.0000 - val_loss: 0.0146 - val_acc: 0.9980\n",
            "Epoch 55/200\n",
            "100/100 [==============================] - ETA: 0s - loss: 5.3976e-08 - acc: 1.0000\n",
            "Epoch 55: val_loss did not improve from 0.01310\n",
            "100/100 [==============================] - 3s 34ms/step - loss: 5.3976e-08 - acc: 1.0000 - val_loss: 0.0146 - val_acc: 0.9980\n",
            "Epoch 56/200\n",
            " 98/100 [============================>.] - ETA: 0s - loss: 3.0489e-08 - acc: 1.0000\n",
            "Epoch 56: val_loss did not improve from 0.01310\n",
            "100/100 [==============================] - 2s 23ms/step - loss: 3.0552e-08 - acc: 1.0000 - val_loss: 0.0146 - val_acc: 0.9980\n",
            "Epoch 57/200\n",
            " 99/100 [============================>.] - ETA: 0s - loss: 2.8468e-08 - acc: 1.0000\n",
            "Epoch 57: val_loss did not improve from 0.01310\n",
            "100/100 [==============================] - 2s 23ms/step - loss: 2.8848e-08 - acc: 1.0000 - val_loss: 0.0146 - val_acc: 0.9980\n",
            "Epoch 58/200\n",
            " 99/100 [============================>.] - ETA: 0s - loss: 3.1158e-08 - acc: 1.0000\n",
            "Epoch 58: val_loss did not improve from 0.01310\n",
            "100/100 [==============================] - 2s 22ms/step - loss: 3.0949e-08 - acc: 1.0000 - val_loss: 0.0146 - val_acc: 0.9980\n",
            "Epoch 59/200\n",
            "100/100 [==============================] - ETA: 0s - loss: 4.1354e-08 - acc: 1.0000\n",
            "Epoch 59: val_loss did not improve from 0.01310\n",
            "100/100 [==============================] - 2s 21ms/step - loss: 4.1354e-08 - acc: 1.0000 - val_loss: 0.0147 - val_acc: 0.9980\n",
            "Epoch 60/200\n",
            " 99/100 [============================>.] - ETA: 0s - loss: 3.4705e-08 - acc: 1.0000\n",
            "Epoch 60: val_loss did not improve from 0.01310\n",
            "100/100 [==============================] - 3s 31ms/step - loss: 3.4466e-08 - acc: 1.0000 - val_loss: 0.0147 - val_acc: 0.9980\n",
            "Epoch 61/200\n",
            " 98/100 [============================>.] - ETA: 0s - loss: 3.8499e-08 - acc: 1.0000\n",
            "Epoch 61: val_loss did not improve from 0.01310\n",
            "100/100 [==============================] - 3s 29ms/step - loss: 3.7907e-08 - acc: 1.0000 - val_loss: 0.0147 - val_acc: 0.9980\n",
            "Epoch 62/200\n",
            "100/100 [==============================] - ETA: 0s - loss: 2.9208e-08 - acc: 1.0000\n",
            "Epoch 62: val_loss did not improve from 0.01310\n",
            "100/100 [==============================] - 2s 21ms/step - loss: 2.9208e-08 - acc: 1.0000 - val_loss: 0.0147 - val_acc: 0.9980\n",
            "Epoch 63/200\n",
            "100/100 [==============================] - ETA: 0s - loss: 3.4860e-08 - acc: 1.0000\n",
            "Epoch 63: val_loss did not improve from 0.01310\n",
            "100/100 [==============================] - 2s 22ms/step - loss: 3.4860e-08 - acc: 1.0000 - val_loss: 0.0147 - val_acc: 0.9980\n",
            "Epoch 64/200\n",
            "100/100 [==============================] - ETA: 0s - loss: 2.9711e-08 - acc: 1.0000\n",
            "Epoch 64: val_loss did not improve from 0.01310\n",
            "100/100 [==============================] - 2s 21ms/step - loss: 2.9711e-08 - acc: 1.0000 - val_loss: 0.0147 - val_acc: 0.9980\n",
            "Epoch 65/200\n",
            " 99/100 [============================>.] - ETA: 0s - loss: 3.5834e-08 - acc: 1.0000\n",
            "Epoch 65: val_loss did not improve from 0.01310\n",
            "100/100 [==============================] - 2s 21ms/step - loss: 3.5605e-08 - acc: 1.0000 - val_loss: 0.0148 - val_acc: 0.9980\n",
            "Epoch 66/200\n",
            "100/100 [==============================] - ETA: 0s - loss: 2.8130e-08 - acc: 1.0000\n",
            "Epoch 66: val_loss did not improve from 0.01310\n",
            "100/100 [==============================] - 3s 31ms/step - loss: 2.8130e-08 - acc: 1.0000 - val_loss: 0.0147 - val_acc: 0.9980\n",
            "Epoch 67/200\n",
            "100/100 [==============================] - ETA: 0s - loss: 3.1105e-08 - acc: 1.0000\n",
            "Epoch 67: val_loss did not improve from 0.01310\n",
            "100/100 [==============================] - 3s 30ms/step - loss: 3.1105e-08 - acc: 1.0000 - val_loss: 0.0147 - val_acc: 0.9980\n",
            "Epoch 68/200\n",
            "100/100 [==============================] - ETA: 0s - loss: 3.7823e-08 - acc: 1.0000\n",
            "Epoch 68: val_loss did not improve from 0.01310\n",
            "100/100 [==============================] - 2s 23ms/step - loss: 3.7823e-08 - acc: 1.0000 - val_loss: 0.0148 - val_acc: 0.9980\n",
            "Epoch 69/200\n",
            "100/100 [==============================] - ETA: 0s - loss: 3.4256e-08 - acc: 1.0000\n",
            "Epoch 69: val_loss did not improve from 0.01310\n",
            "100/100 [==============================] - 2s 22ms/step - loss: 3.4256e-08 - acc: 1.0000 - val_loss: 0.0148 - val_acc: 0.9980\n",
            "Epoch 70/200\n",
            " 99/100 [============================>.] - ETA: 0s - loss: 2.1808e-08 - acc: 1.0000\n",
            "Epoch 70: val_loss did not improve from 0.01310\n",
            "100/100 [==============================] - 2s 22ms/step - loss: 2.1619e-08 - acc: 1.0000 - val_loss: 0.0148 - val_acc: 0.9980\n",
            "Epoch 71/200\n",
            "100/100 [==============================] - ETA: 0s - loss: 3.0482e-08 - acc: 1.0000\n",
            "Epoch 71: val_loss did not improve from 0.01310\n",
            "100/100 [==============================] - 2s 21ms/step - loss: 3.0482e-08 - acc: 1.0000 - val_loss: 0.0148 - val_acc: 0.9980\n",
            "Epoch 72/200\n",
            "100/100 [==============================] - ETA: 0s - loss: 2.6562e-08 - acc: 1.0000\n",
            "Epoch 72: val_loss did not improve from 0.01310\n",
            "100/100 [==============================] - 3s 30ms/step - loss: 2.6562e-08 - acc: 1.0000 - val_loss: 0.0148 - val_acc: 0.9980\n",
            "Epoch 73/200\n",
            " 99/100 [============================>.] - ETA: 0s - loss: 3.3684e-08 - acc: 1.0000\n",
            "Epoch 73: val_loss did not improve from 0.01310\n",
            "100/100 [==============================] - 3s 31ms/step - loss: 3.3441e-08 - acc: 1.0000 - val_loss: 0.0148 - val_acc: 0.9980\n",
            "Epoch 74/200\n",
            " 99/100 [============================>.] - ETA: 0s - loss: 2.7087e-08 - acc: 1.0000\n",
            "Epoch 74: val_loss did not improve from 0.01310\n",
            "100/100 [==============================] - 2s 21ms/step - loss: 2.8119e-08 - acc: 1.0000 - val_loss: 0.0148 - val_acc: 0.9980\n",
            "Epoch 75/200\n",
            " 99/100 [============================>.] - ETA: 0s - loss: 3.1283e-08 - acc: 1.0000\n",
            "Epoch 75: val_loss did not improve from 0.01310\n",
            "100/100 [==============================] - 2s 22ms/step - loss: 3.1068e-08 - acc: 1.0000 - val_loss: 0.0148 - val_acc: 0.9980\n",
            "Epoch 76/200\n",
            " 99/100 [============================>.] - ETA: 0s - loss: 2.5517e-08 - acc: 1.0000\n",
            "Epoch 76: val_loss did not improve from 0.01310\n",
            "100/100 [==============================] - 2s 22ms/step - loss: 2.5494e-08 - acc: 1.0000 - val_loss: 0.0147 - val_acc: 0.9980\n",
            "Epoch 77/200\n",
            "100/100 [==============================] - ETA: 0s - loss: 4.5430e-08 - acc: 1.0000\n",
            "Epoch 77: val_loss did not improve from 0.01310\n",
            "100/100 [==============================] - 2s 22ms/step - loss: 4.5430e-08 - acc: 1.0000 - val_loss: 0.0147 - val_acc: 0.9980\n",
            "Epoch 78/200\n",
            "100/100 [==============================] - ETA: 0s - loss: 2.3750e-08 - acc: 1.0000\n",
            "Epoch 78: val_loss did not improve from 0.01310\n",
            "100/100 [==============================] - 3s 31ms/step - loss: 2.3750e-08 - acc: 1.0000 - val_loss: 0.0147 - val_acc: 0.9980\n",
            "Epoch 79/200\n",
            " 99/100 [============================>.] - ETA: 0s - loss: 2.6829e-08 - acc: 1.0000\n",
            "Epoch 79: val_loss did not improve from 0.01310\n",
            "100/100 [==============================] - 4s 38ms/step - loss: 2.6724e-08 - acc: 1.0000 - val_loss: 0.0147 - val_acc: 0.9980\n",
            "Epoch 80/200\n",
            " 99/100 [============================>.] - ETA: 0s - loss: 3.2246e-08 - acc: 1.0000\n",
            "Epoch 80: val_loss did not improve from 0.01310\n",
            "100/100 [==============================] - 3s 35ms/step - loss: 3.2406e-08 - acc: 1.0000 - val_loss: 0.0147 - val_acc: 0.9980\n",
            "Epoch 81/200\n",
            " 98/100 [============================>.] - ETA: 0s - loss: 3.5813e-08 - acc: 1.0000\n",
            "Epoch 81: val_loss did not improve from 0.01310\n",
            "100/100 [==============================] - 2s 22ms/step - loss: 3.5558e-08 - acc: 1.0000 - val_loss: 0.0147 - val_acc: 0.9980\n",
            "Epoch 82/200\n",
            " 99/100 [============================>.] - ETA: 0s - loss: 3.0353e-08 - acc: 1.0000\n",
            "Epoch 82: val_loss did not improve from 0.01310\n",
            "100/100 [==============================] - 2s 22ms/step - loss: 3.0150e-08 - acc: 1.0000 - val_loss: 0.0147 - val_acc: 0.9980\n",
            "Epoch 83/200\n",
            " 99/100 [============================>.] - ETA: 0s - loss: 3.5104e-08 - acc: 1.0000\n",
            "Epoch 83: val_loss did not improve from 0.01310\n",
            "100/100 [==============================] - 2s 21ms/step - loss: 3.4867e-08 - acc: 1.0000 - val_loss: 0.0147 - val_acc: 0.9980\n",
            "Epoch 84/200\n",
            " 99/100 [============================>.] - ETA: 0s - loss: 2.9699e-08 - acc: 1.0000\n",
            "Epoch 84: val_loss did not improve from 0.01310\n",
            "100/100 [==============================] - 2s 23ms/step - loss: 2.9750e-08 - acc: 1.0000 - val_loss: 0.0147 - val_acc: 0.9980\n",
            "Epoch 85/200\n",
            " 99/100 [============================>.] - ETA: 0s - loss: 2.7052e-08 - acc: 1.0000\n",
            "Epoch 85: val_loss did not improve from 0.01310\n",
            "100/100 [==============================] - 3s 33ms/step - loss: 2.6972e-08 - acc: 1.0000 - val_loss: 0.0147 - val_acc: 0.9980\n",
            "Epoch 86/200\n",
            "100/100 [==============================] - ETA: 0s - loss: 2.5516e-08 - acc: 1.0000\n",
            "Epoch 86: val_loss did not improve from 0.01310\n",
            "100/100 [==============================] - 3s 26ms/step - loss: 2.5516e-08 - acc: 1.0000 - val_loss: 0.0147 - val_acc: 0.9980\n",
            "Epoch 87/200\n",
            " 99/100 [============================>.] - ETA: 0s - loss: 2.6827e-08 - acc: 1.0000\n",
            "Epoch 87: val_loss did not improve from 0.01310\n",
            "100/100 [==============================] - 2s 21ms/step - loss: 2.6634e-08 - acc: 1.0000 - val_loss: 0.0147 - val_acc: 0.9980\n",
            "Epoch 88/200\n",
            " 98/100 [============================>.] - ETA: 0s - loss: 2.7955e-08 - acc: 1.0000\n",
            "Epoch 88: val_loss did not improve from 0.01310\n",
            "100/100 [==============================] - 2s 21ms/step - loss: 2.7798e-08 - acc: 1.0000 - val_loss: 0.0147 - val_acc: 0.9980\n",
            "Epoch 89/200\n",
            " 99/100 [============================>.] - ETA: 0s - loss: 1.9495e-08 - acc: 1.0000\n",
            "Epoch 89: val_loss did not improve from 0.01310\n",
            "100/100 [==============================] - 2s 22ms/step - loss: 1.9869e-08 - acc: 1.0000 - val_loss: 0.0147 - val_acc: 0.9980\n",
            "Epoch 90/200\n",
            "100/100 [==============================] - ETA: 0s - loss: 2.3270e-08 - acc: 1.0000\n",
            "Epoch 90: val_loss did not improve from 0.01310\n",
            "100/100 [==============================] - 2s 23ms/step - loss: 2.3270e-08 - acc: 1.0000 - val_loss: 0.0147 - val_acc: 0.9980\n",
            "Epoch 91/200\n",
            " 99/100 [============================>.] - ETA: 0s - loss: 7.2138e-08 - acc: 1.0000\n",
            "Epoch 91: val_loss did not improve from 0.01310\n",
            "100/100 [==============================] - 3s 34ms/step - loss: 7.1468e-08 - acc: 1.0000 - val_loss: 0.0147 - val_acc: 0.9980\n",
            "Epoch 92/200\n",
            " 98/100 [============================>.] - ETA: 0s - loss: 1.7886e-08 - acc: 1.0000\n",
            "Epoch 92: val_loss did not improve from 0.01310\n",
            "100/100 [==============================] - 3s 27ms/step - loss: 1.8123e-08 - acc: 1.0000 - val_loss: 0.0147 - val_acc: 0.9980\n",
            "Epoch 93/200\n",
            "100/100 [==============================] - ETA: 0s - loss: 1.9813e-08 - acc: 1.0000\n",
            "Epoch 93: val_loss did not improve from 0.01310\n",
            "100/100 [==============================] - 2s 21ms/step - loss: 1.9813e-08 - acc: 1.0000 - val_loss: 0.0147 - val_acc: 0.9980\n",
            "Epoch 94/200\n",
            "100/100 [==============================] - ETA: 0s - loss: 2.2978e-08 - acc: 1.0000\n",
            "Epoch 94: val_loss did not improve from 0.01310\n",
            "100/100 [==============================] - 2s 21ms/step - loss: 2.2978e-08 - acc: 1.0000 - val_loss: 0.0147 - val_acc: 0.9980\n",
            "Epoch 95/200\n",
            " 99/100 [============================>.] - ETA: 0s - loss: 2.2863e-08 - acc: 1.0000\n",
            "Epoch 95: val_loss did not improve from 0.01310\n",
            "100/100 [==============================] - 2s 22ms/step - loss: 2.2769e-08 - acc: 1.0000 - val_loss: 0.0147 - val_acc: 0.9980\n",
            "Epoch 96/200\n",
            " 98/100 [============================>.] - ETA: 0s - loss: 1.8439e-08 - acc: 1.0000\n",
            "Epoch 96: val_loss did not improve from 0.01310\n",
            "100/100 [==============================] - 2s 23ms/step - loss: 1.8526e-08 - acc: 1.0000 - val_loss: 0.0147 - val_acc: 0.9980\n",
            "Epoch 97/200\n",
            " 99/100 [============================>.] - ETA: 0s - loss: 3.0875e-08 - acc: 1.0000\n",
            "Epoch 97: val_loss did not improve from 0.01310\n",
            "100/100 [==============================] - 3s 34ms/step - loss: 3.0599e-08 - acc: 1.0000 - val_loss: 0.0147 - val_acc: 0.9980\n",
            "Epoch 98/200\n",
            " 98/100 [============================>.] - ETA: 0s - loss: 2.0079e-08 - acc: 1.0000\n",
            "Epoch 98: val_loss did not improve from 0.01310\n",
            "100/100 [==============================] - 3s 26ms/step - loss: 2.1635e-08 - acc: 1.0000 - val_loss: 0.0147 - val_acc: 0.9980\n",
            "Epoch 99/200\n",
            " 99/100 [============================>.] - ETA: 0s - loss: 2.3871e-08 - acc: 1.0000\n",
            "Epoch 99: val_loss did not improve from 0.01310\n",
            "100/100 [==============================] - 2s 22ms/step - loss: 2.3728e-08 - acc: 1.0000 - val_loss: 0.0147 - val_acc: 0.9980\n",
            "Epoch 100/200\n",
            "100/100 [==============================] - ETA: 0s - loss: 3.4600e-08 - acc: 1.0000\n",
            "Epoch 100: val_loss did not improve from 0.01310\n",
            "100/100 [==============================] - 2s 22ms/step - loss: 3.4600e-08 - acc: 1.0000 - val_loss: 0.0147 - val_acc: 0.9980\n",
            "Epoch 101/200\n",
            " 99/100 [============================>.] - ETA: 0s - loss: 2.3402e-08 - acc: 1.0000\n",
            "Epoch 101: val_loss did not improve from 0.01310\n",
            "100/100 [==============================] - 2s 21ms/step - loss: 2.3313e-08 - acc: 1.0000 - val_loss: 0.0147 - val_acc: 0.9980\n",
            "Epoch 102/200\n",
            "100/100 [==============================] - ETA: 0s - loss: 2.3365e-08 - acc: 1.0000\n",
            "Epoch 102: val_loss did not improve from 0.01310\n",
            "100/100 [==============================] - 2s 23ms/step - loss: 2.3365e-08 - acc: 1.0000 - val_loss: 0.0147 - val_acc: 0.9980\n",
            "Epoch 103/200\n",
            "100/100 [==============================] - ETA: 0s - loss: 2.1511e-08 - acc: 1.0000\n",
            "Epoch 103: val_loss did not improve from 0.01310\n",
            "100/100 [==============================] - 3s 34ms/step - loss: 2.1511e-08 - acc: 1.0000 - val_loss: 0.0147 - val_acc: 0.9980\n",
            "Epoch 104/200\n",
            " 98/100 [============================>.] - ETA: 0s - loss: 2.0129e-08 - acc: 1.0000\n",
            "Epoch 104: val_loss did not improve from 0.01310\n",
            "100/100 [==============================] - 3s 25ms/step - loss: 2.0057e-08 - acc: 1.0000 - val_loss: 0.0147 - val_acc: 0.9980\n",
            "Epoch 105/200\n",
            " 98/100 [============================>.] - ETA: 0s - loss: 1.6849e-08 - acc: 1.0000\n",
            "Epoch 105: val_loss did not improve from 0.01310\n",
            "100/100 [==============================] - 2s 22ms/step - loss: 1.6730e-08 - acc: 1.0000 - val_loss: 0.0147 - val_acc: 0.9980\n",
            "Epoch 106/200\n",
            " 99/100 [============================>.] - ETA: 0s - loss: 2.7671e-08 - acc: 1.0000\n",
            "Epoch 106: val_loss did not improve from 0.01310\n",
            "100/100 [==============================] - 2s 22ms/step - loss: 2.7464e-08 - acc: 1.0000 - val_loss: 0.0147 - val_acc: 0.9980\n",
            "Epoch 107/200\n",
            "100/100 [==============================] - ETA: 0s - loss: 2.3018e-08 - acc: 1.0000\n",
            "Epoch 107: val_loss did not improve from 0.01310\n",
            "100/100 [==============================] - 2s 23ms/step - loss: 2.3018e-08 - acc: 1.0000 - val_loss: 0.0147 - val_acc: 0.9980\n",
            "Epoch 108/200\n",
            " 99/100 [============================>.] - ETA: 0s - loss: 2.0984e-08 - acc: 1.0000\n",
            "Epoch 108: val_loss did not improve from 0.01310\n",
            "100/100 [==============================] - 2s 23ms/step - loss: 2.1100e-08 - acc: 1.0000 - val_loss: 0.0147 - val_acc: 0.9980\n",
            "Epoch 109/200\n",
            " 99/100 [============================>.] - ETA: 0s - loss: 2.3584e-08 - acc: 1.0000\n",
            "Epoch 109: val_loss did not improve from 0.01310\n",
            "100/100 [==============================] - 3s 34ms/step - loss: 2.7627e-08 - acc: 1.0000 - val_loss: 0.0147 - val_acc: 0.9980\n",
            "Epoch 110/200\n",
            "100/100 [==============================] - ETA: 0s - loss: 2.1159e-08 - acc: 1.0000\n",
            "Epoch 110: val_loss did not improve from 0.01310\n",
            "100/100 [==============================] - 3s 27ms/step - loss: 2.1159e-08 - acc: 1.0000 - val_loss: 0.0147 - val_acc: 0.9980\n",
            "Epoch 111/200\n",
            " 99/100 [============================>.] - ETA: 0s - loss: 1.8603e-08 - acc: 1.0000\n",
            "Epoch 111: val_loss did not improve from 0.01310\n",
            "100/100 [==============================] - 2s 23ms/step - loss: 1.9276e-08 - acc: 1.0000 - val_loss: 0.0147 - val_acc: 0.9980\n",
            "Epoch 112/200\n",
            "100/100 [==============================] - ETA: 0s - loss: 2.0048e-08 - acc: 1.0000\n",
            "Epoch 112: val_loss did not improve from 0.01310\n",
            "100/100 [==============================] - 2s 21ms/step - loss: 2.0048e-08 - acc: 1.0000 - val_loss: 0.0147 - val_acc: 0.9980\n",
            "Epoch 113/200\n",
            "100/100 [==============================] - ETA: 0s - loss: 1.8497e-08 - acc: 1.0000\n",
            "Epoch 113: val_loss did not improve from 0.01310\n",
            "100/100 [==============================] - 2s 23ms/step - loss: 1.8497e-08 - acc: 1.0000 - val_loss: 0.0147 - val_acc: 0.9980\n",
            "Epoch 114/200\n",
            "100/100 [==============================] - ETA: 0s - loss: 2.1378e-08 - acc: 1.0000\n",
            "Epoch 114: val_loss did not improve from 0.01310\n",
            "100/100 [==============================] - 3s 27ms/step - loss: 2.1378e-08 - acc: 1.0000 - val_loss: 0.0147 - val_acc: 0.9980\n",
            "Epoch 115/200\n",
            " 99/100 [============================>.] - ETA: 0s - loss: 2.1960e-08 - acc: 1.0000\n",
            "Epoch 115: val_loss did not improve from 0.01310\n",
            "100/100 [==============================] - 3s 30ms/step - loss: 2.1910e-08 - acc: 1.0000 - val_loss: 0.0147 - val_acc: 0.9980\n",
            "Epoch 116/200\n",
            " 99/100 [============================>.] - ETA: 0s - loss: 3.0816e-08 - acc: 1.0000\n",
            "Epoch 116: val_loss did not improve from 0.01310\n",
            "100/100 [==============================] - 3s 25ms/step - loss: 3.0596e-08 - acc: 1.0000 - val_loss: 0.0147 - val_acc: 0.9980\n",
            "Epoch 117/200\n",
            "100/100 [==============================] - ETA: 0s - loss: 2.1841e-08 - acc: 1.0000\n",
            "Epoch 117: val_loss did not improve from 0.01310\n",
            "100/100 [==============================] - 2s 23ms/step - loss: 2.1841e-08 - acc: 1.0000 - val_loss: 0.0147 - val_acc: 0.9980\n",
            "Epoch 118/200\n",
            " 99/100 [============================>.] - ETA: 0s - loss: 1.6800e-08 - acc: 1.0000\n",
            "Epoch 118: val_loss did not improve from 0.01310\n",
            "100/100 [==============================] - 2s 23ms/step - loss: 1.6709e-08 - acc: 1.0000 - val_loss: 0.0147 - val_acc: 0.9980\n",
            "Epoch 119/200\n",
            "100/100 [==============================] - ETA: 0s - loss: 1.6978e-08 - acc: 1.0000\n",
            "Epoch 119: val_loss did not improve from 0.01310\n",
            "100/100 [==============================] - 2s 23ms/step - loss: 1.6978e-08 - acc: 1.0000 - val_loss: 0.0147 - val_acc: 0.9980\n",
            "Epoch 120/200\n",
            "100/100 [==============================] - ETA: 0s - loss: 1.6612e-08 - acc: 1.0000\n",
            "Epoch 120: val_loss did not improve from 0.01310\n",
            "100/100 [==============================] - 3s 25ms/step - loss: 1.6612e-08 - acc: 1.0000 - val_loss: 0.0147 - val_acc: 0.9980\n",
            "Epoch 121/200\n",
            " 99/100 [============================>.] - ETA: 0s - loss: 2.1192e-08 - acc: 1.0000\n",
            "Epoch 121: val_loss did not improve from 0.01310\n",
            "100/100 [==============================] - 3s 31ms/step - loss: 2.1149e-08 - acc: 1.0000 - val_loss: 0.0147 - val_acc: 0.9980\n",
            "Epoch 122/200\n",
            " 99/100 [============================>.] - ETA: 0s - loss: 2.2630e-08 - acc: 1.0000\n",
            "Epoch 122: val_loss did not improve from 0.01310\n",
            "100/100 [==============================] - 3s 26ms/step - loss: 2.2495e-08 - acc: 1.0000 - val_loss: 0.0147 - val_acc: 0.9980\n",
            "Epoch 123/200\n",
            " 99/100 [============================>.] - ETA: 0s - loss: 2.0478e-08 - acc: 1.0000\n",
            "Epoch 123: val_loss did not improve from 0.01310\n",
            "100/100 [==============================] - 2s 22ms/step - loss: 2.0403e-08 - acc: 1.0000 - val_loss: 0.0147 - val_acc: 0.9980\n",
            "Epoch 124/200\n",
            "100/100 [==============================] - ETA: 0s - loss: 2.2383e-08 - acc: 1.0000\n",
            "Epoch 124: val_loss did not improve from 0.01310\n",
            "100/100 [==============================] - 2s 22ms/step - loss: 2.2383e-08 - acc: 1.0000 - val_loss: 0.0147 - val_acc: 0.9980\n",
            "Epoch 125/200\n",
            " 99/100 [============================>.] - ETA: 0s - loss: 1.4023e-08 - acc: 1.0000\n",
            "Epoch 125: val_loss did not improve from 0.01310\n",
            "100/100 [==============================] - 2s 23ms/step - loss: 1.3928e-08 - acc: 1.0000 - val_loss: 0.0147 - val_acc: 0.9980\n",
            "Epoch 126/200\n",
            " 99/100 [============================>.] - ETA: 0s - loss: 2.4089e-08 - acc: 1.0000\n",
            "Epoch 126: val_loss did not improve from 0.01310\n",
            "100/100 [==============================] - 2s 23ms/step - loss: 2.3866e-08 - acc: 1.0000 - val_loss: 0.0147 - val_acc: 0.9980\n",
            "Epoch 127/200\n",
            " 99/100 [============================>.] - ETA: 0s - loss: 1.3744e-08 - acc: 1.0000\n",
            "Epoch 127: val_loss did not improve from 0.01310\n",
            "100/100 [==============================] - 3s 34ms/step - loss: 1.3660e-08 - acc: 1.0000 - val_loss: 0.0147 - val_acc: 0.9980\n",
            "Epoch 128/200\n",
            " 98/100 [============================>.] - ETA: 0s - loss: 1.9957e-08 - acc: 1.0000\n",
            "Epoch 128: val_loss did not improve from 0.01310\n",
            "100/100 [==============================] - 3s 26ms/step - loss: 1.9710e-08 - acc: 1.0000 - val_loss: 0.0147 - val_acc: 0.9980\n",
            "Epoch 129/200\n",
            "100/100 [==============================] - ETA: 0s - loss: 1.4813e-08 - acc: 1.0000\n",
            "Epoch 129: val_loss did not improve from 0.01310\n",
            "100/100 [==============================] - 2s 22ms/step - loss: 1.4813e-08 - acc: 1.0000 - val_loss: 0.0147 - val_acc: 0.9980\n",
            "Epoch 130/200\n",
            " 98/100 [============================>.] - ETA: 0s - loss: 2.3903e-08 - acc: 1.0000\n",
            "Epoch 130: val_loss did not improve from 0.01310\n",
            "100/100 [==============================] - 2s 24ms/step - loss: 2.3831e-08 - acc: 1.0000 - val_loss: 0.0147 - val_acc: 0.9980\n",
            "Epoch 131/200\n",
            " 98/100 [============================>.] - ETA: 0s - loss: 1.4113e-08 - acc: 1.0000\n",
            "Epoch 131: val_loss did not improve from 0.01310\n",
            "100/100 [==============================] - 2s 23ms/step - loss: 1.4041e-08 - acc: 1.0000 - val_loss: 0.0147 - val_acc: 0.9980\n",
            "Epoch 132/200\n",
            "100/100 [==============================] - ETA: 0s - loss: 1.2924e-08 - acc: 1.0000\n",
            "Epoch 132: val_loss did not improve from 0.01310\n",
            "100/100 [==============================] - 3s 28ms/step - loss: 1.2924e-08 - acc: 1.0000 - val_loss: 0.0147 - val_acc: 0.9980\n",
            "Epoch 133/200\n",
            " 99/100 [============================>.] - ETA: 0s - loss: 1.5820e-08 - acc: 1.0000\n",
            "Epoch 133: val_loss did not improve from 0.01310\n",
            "100/100 [==============================] - 3s 34ms/step - loss: 1.5833e-08 - acc: 1.0000 - val_loss: 0.0147 - val_acc: 0.9980\n",
            "Epoch 134/200\n",
            " 98/100 [============================>.] - ETA: 0s - loss: 1.7095e-08 - acc: 1.0000\n",
            "Epoch 134: val_loss did not improve from 0.01310\n",
            "100/100 [==============================] - 2s 22ms/step - loss: 1.6848e-08 - acc: 1.0000 - val_loss: 0.0147 - val_acc: 0.9980\n",
            "Epoch 135/200\n",
            "100/100 [==============================] - ETA: 0s - loss: 1.5576e-08 - acc: 1.0000\n",
            "Epoch 135: val_loss did not improve from 0.01310\n",
            "100/100 [==============================] - 2s 22ms/step - loss: 1.5576e-08 - acc: 1.0000 - val_loss: 0.0147 - val_acc: 0.9980\n",
            "Epoch 136/200\n",
            " 98/100 [============================>.] - ETA: 0s - loss: 1.2793e-08 - acc: 1.0000\n",
            "Epoch 136: val_loss did not improve from 0.01310\n",
            "100/100 [==============================] - 2s 22ms/step - loss: 1.2847e-08 - acc: 1.0000 - val_loss: 0.0147 - val_acc: 0.9980\n",
            "Epoch 137/200\n",
            "100/100 [==============================] - ETA: 0s - loss: 1.4460e-08 - acc: 1.0000\n",
            "Epoch 137: val_loss did not improve from 0.01310\n",
            "100/100 [==============================] - 2s 23ms/step - loss: 1.4460e-08 - acc: 1.0000 - val_loss: 0.0147 - val_acc: 0.9980\n",
            "Epoch 138/200\n",
            " 99/100 [============================>.] - ETA: 0s - loss: 1.7094e-08 - acc: 1.0000\n",
            "Epoch 138: val_loss did not improve from 0.01310\n",
            "100/100 [==============================] - 3s 31ms/step - loss: 1.7095e-08 - acc: 1.0000 - val_loss: 0.0147 - val_acc: 0.9980\n",
            "Epoch 139/200\n",
            " 98/100 [============================>.] - ETA: 0s - loss: 1.7350e-08 - acc: 1.0000\n",
            "Epoch 139: val_loss did not improve from 0.01310\n",
            "100/100 [==============================] - 3s 30ms/step - loss: 1.7423e-08 - acc: 1.0000 - val_loss: 0.0147 - val_acc: 0.9980\n",
            "Epoch 140/200\n",
            "100/100 [==============================] - ETA: 0s - loss: 1.3761e-08 - acc: 1.0000\n",
            "Epoch 140: val_loss did not improve from 0.01310\n",
            "100/100 [==============================] - 2s 22ms/step - loss: 1.3761e-08 - acc: 1.0000 - val_loss: 0.0147 - val_acc: 0.9980\n",
            "Epoch 141/200\n",
            " 99/100 [============================>.] - ETA: 0s - loss: 1.3600e-08 - acc: 1.0000\n",
            "Epoch 141: val_loss did not improve from 0.01310\n",
            "100/100 [==============================] - 2s 23ms/step - loss: 1.3586e-08 - acc: 1.0000 - val_loss: 0.0147 - val_acc: 0.9980\n",
            "Epoch 142/200\n",
            " 98/100 [============================>.] - ETA: 0s - loss: 1.7037e-08 - acc: 1.0000\n",
            "Epoch 142: val_loss did not improve from 0.01310\n",
            "100/100 [==============================] - 2s 22ms/step - loss: 1.6935e-08 - acc: 1.0000 - val_loss: 0.0147 - val_acc: 0.9980\n",
            "Epoch 143/200\n",
            " 99/100 [============================>.] - ETA: 0s - loss: 1.3119e-08 - acc: 1.0000\n",
            "Epoch 143: val_loss did not improve from 0.01310\n",
            "100/100 [==============================] - 2s 22ms/step - loss: 1.3048e-08 - acc: 1.0000 - val_loss: 0.0147 - val_acc: 0.9980\n",
            "Epoch 144/200\n",
            " 99/100 [============================>.] - ETA: 0s - loss: 1.4019e-08 - acc: 1.0000\n",
            "Epoch 144: val_loss did not improve from 0.01310\n",
            "100/100 [==============================] - 3s 29ms/step - loss: 1.3941e-08 - acc: 1.0000 - val_loss: 0.0147 - val_acc: 0.9980\n",
            "Epoch 145/200\n",
            "100/100 [==============================] - ETA: 0s - loss: 1.5321e-08 - acc: 1.0000\n",
            "Epoch 145: val_loss did not improve from 0.01310\n",
            "100/100 [==============================] - 3s 30ms/step - loss: 1.5321e-08 - acc: 1.0000 - val_loss: 0.0147 - val_acc: 0.9980\n",
            "Epoch 146/200\n",
            " 98/100 [============================>.] - ETA: 0s - loss: 1.8666e-08 - acc: 1.0000\n",
            "Epoch 146: val_loss did not improve from 0.01310\n",
            "100/100 [==============================] - 2s 23ms/step - loss: 1.8433e-08 - acc: 1.0000 - val_loss: 0.0147 - val_acc: 0.9980\n",
            "Epoch 147/200\n",
            "100/100 [==============================] - ETA: 0s - loss: 1.4841e-08 - acc: 1.0000\n",
            "Epoch 147: val_loss did not improve from 0.01310\n",
            "100/100 [==============================] - 2s 22ms/step - loss: 1.4841e-08 - acc: 1.0000 - val_loss: 0.0147 - val_acc: 0.9980\n",
            "Epoch 148/200\n",
            " 98/100 [============================>.] - ETA: 0s - loss: 1.8635e-08 - acc: 1.0000\n",
            "Epoch 148: val_loss did not improve from 0.01310\n",
            "100/100 [==============================] - 2s 22ms/step - loss: 1.8404e-08 - acc: 1.0000 - val_loss: 0.0147 - val_acc: 0.9980\n",
            "Epoch 149/200\n",
            "100/100 [==============================] - ETA: 0s - loss: 1.8421e-08 - acc: 1.0000\n",
            "Epoch 149: val_loss did not improve from 0.01310\n",
            "100/100 [==============================] - 3s 29ms/step - loss: 1.8421e-08 - acc: 1.0000 - val_loss: 0.0147 - val_acc: 0.9980\n",
            "Epoch 150/200\n",
            " 99/100 [============================>.] - ETA: 0s - loss: 1.6860e-08 - acc: 1.0000\n",
            "Epoch 150: val_loss did not improve from 0.01310\n",
            "100/100 [==============================] - 4s 39ms/step - loss: 1.6706e-08 - acc: 1.0000 - val_loss: 0.0147 - val_acc: 0.9980\n",
            "Epoch 151/200\n",
            " 99/100 [============================>.] - ETA: 0s - loss: 1.2824e-08 - acc: 1.0000\n",
            "Epoch 151: val_loss did not improve from 0.01310\n",
            "100/100 [==============================] - 3s 33ms/step - loss: 1.2721e-08 - acc: 1.0000 - val_loss: 0.0147 - val_acc: 0.9980\n",
            "Epoch 152/200\n",
            "100/100 [==============================] - ETA: 0s - loss: 1.6126e-08 - acc: 1.0000\n",
            "Epoch 152: val_loss did not improve from 0.01310\n",
            "100/100 [==============================] - 2s 24ms/step - loss: 1.6126e-08 - acc: 1.0000 - val_loss: 0.0147 - val_acc: 0.9980\n",
            "Epoch 153/200\n",
            " 99/100 [============================>.] - ETA: 0s - loss: 1.7104e-08 - acc: 1.0000\n",
            "Epoch 153: val_loss did not improve from 0.01310\n",
            "100/100 [==============================] - 2s 22ms/step - loss: 1.6966e-08 - acc: 1.0000 - val_loss: 0.0147 - val_acc: 0.9980\n",
            "Epoch 154/200\n",
            " 99/100 [============================>.] - ETA: 0s - loss: 1.5440e-08 - acc: 1.0000\n",
            "Epoch 154: val_loss did not improve from 0.01310\n",
            "100/100 [==============================] - 2s 23ms/step - loss: 1.5321e-08 - acc: 1.0000 - val_loss: 0.0147 - val_acc: 0.9980\n",
            "Epoch 155/200\n",
            "100/100 [==============================] - ETA: 0s - loss: 1.8262e-08 - acc: 1.0000\n",
            "Epoch 155: val_loss did not improve from 0.01310\n",
            "100/100 [==============================] - 2s 23ms/step - loss: 1.8262e-08 - acc: 1.0000 - val_loss: 0.0147 - val_acc: 0.9980\n",
            "Epoch 156/200\n",
            " 99/100 [============================>.] - ETA: 0s - loss: 1.5676e-08 - acc: 1.0000\n",
            "Epoch 156: val_loss did not improve from 0.01310\n",
            "100/100 [==============================] - 3s 26ms/step - loss: 1.5571e-08 - acc: 1.0000 - val_loss: 0.0147 - val_acc: 0.9980\n",
            "Epoch 157/200\n",
            " 99/100 [============================>.] - ETA: 0s - loss: 1.6656e-08 - acc: 1.0000\n",
            "Epoch 157: val_loss did not improve from 0.01310\n",
            "100/100 [==============================] - 3s 34ms/step - loss: 1.6963e-08 - acc: 1.0000 - val_loss: 0.0147 - val_acc: 0.9980\n",
            "Epoch 158/200\n",
            "100/100 [==============================] - ETA: 0s - loss: 1.4626e-08 - acc: 1.0000\n",
            "Epoch 158: val_loss did not improve from 0.01310\n",
            "100/100 [==============================] - 3s 25ms/step - loss: 1.4626e-08 - acc: 1.0000 - val_loss: 0.0147 - val_acc: 0.9980\n",
            "Epoch 159/200\n",
            " 99/100 [============================>.] - ETA: 0s - loss: 1.6504e-08 - acc: 1.0000\n",
            "Epoch 159: val_loss did not improve from 0.01310\n",
            "100/100 [==============================] - 2s 22ms/step - loss: 1.6451e-08 - acc: 1.0000 - val_loss: 0.0147 - val_acc: 0.9980\n",
            "Epoch 160/200\n",
            " 99/100 [============================>.] - ETA: 0s - loss: 1.6569e-08 - acc: 1.0000\n",
            "Epoch 160: val_loss did not improve from 0.01310\n",
            "100/100 [==============================] - 2s 22ms/step - loss: 1.6470e-08 - acc: 1.0000 - val_loss: 0.0147 - val_acc: 0.9980\n",
            "Epoch 161/200\n",
            "100/100 [==============================] - ETA: 0s - loss: 1.6996e-08 - acc: 1.0000\n",
            "Epoch 161: val_loss did not improve from 0.01310\n",
            "100/100 [==============================] - 2s 24ms/step - loss: 1.6996e-08 - acc: 1.0000 - val_loss: 0.0147 - val_acc: 0.9980\n",
            "Epoch 162/200\n",
            " 99/100 [============================>.] - ETA: 0s - loss: 1.4607e-08 - acc: 1.0000\n",
            "Epoch 162: val_loss did not improve from 0.01310\n",
            "100/100 [==============================] - 3s 30ms/step - loss: 1.4753e-08 - acc: 1.0000 - val_loss: 0.0147 - val_acc: 0.9980\n",
            "Epoch 163/200\n",
            "100/100 [==============================] - ETA: 0s - loss: 8.6151e-09 - acc: 1.0000\n",
            "Epoch 163: val_loss did not improve from 0.01310\n",
            "100/100 [==============================] - 3s 32ms/step - loss: 8.6151e-09 - acc: 1.0000 - val_loss: 0.0147 - val_acc: 0.9980\n",
            "Epoch 164/200\n",
            " 99/100 [============================>.] - ETA: 0s - loss: 1.9293e-08 - acc: 1.0000\n",
            "Epoch 164: val_loss did not improve from 0.01310\n",
            "100/100 [==============================] - 2s 23ms/step - loss: 1.9197e-08 - acc: 1.0000 - val_loss: 0.0147 - val_acc: 0.9980\n",
            "Epoch 165/200\n",
            " 98/100 [============================>.] - ETA: 0s - loss: 1.3379e-08 - acc: 1.0000\n",
            "Epoch 165: val_loss did not improve from 0.01310\n",
            "100/100 [==============================] - 2s 24ms/step - loss: 1.3188e-08 - acc: 1.0000 - val_loss: 0.0147 - val_acc: 0.9980\n",
            "Epoch 166/200\n",
            "100/100 [==============================] - ETA: 0s - loss: 1.9962e-08 - acc: 1.0000\n",
            "Epoch 166: val_loss did not improve from 0.01310\n",
            "100/100 [==============================] - 2s 24ms/step - loss: 1.9962e-08 - acc: 1.0000 - val_loss: 0.0147 - val_acc: 0.9980\n",
            "Epoch 167/200\n",
            " 98/100 [============================>.] - ETA: 0s - loss: 1.2529e-08 - acc: 1.0000\n",
            "Epoch 167: val_loss did not improve from 0.01310\n",
            "100/100 [==============================] - 2s 24ms/step - loss: 1.2641e-08 - acc: 1.0000 - val_loss: 0.0147 - val_acc: 0.9980\n",
            "Epoch 168/200\n",
            " 99/100 [============================>.] - ETA: 0s - loss: 1.2147e-08 - acc: 1.0000\n",
            "Epoch 168: val_loss did not improve from 0.01310\n",
            "100/100 [==============================] - 3s 29ms/step - loss: 1.2115e-08 - acc: 1.0000 - val_loss: 0.0147 - val_acc: 0.9980\n",
            "Epoch 169/200\n",
            " 99/100 [============================>.] - ETA: 0s - loss: 1.9433e-08 - acc: 1.0000\n",
            "Epoch 169: val_loss did not improve from 0.01310\n",
            "100/100 [==============================] - 3s 34ms/step - loss: 1.9292e-08 - acc: 1.0000 - val_loss: 0.0147 - val_acc: 0.9980\n",
            "Epoch 170/200\n",
            " 99/100 [============================>.] - ETA: 0s - loss: 1.5705e-08 - acc: 1.0000\n",
            "Epoch 170: val_loss did not improve from 0.01310\n",
            "100/100 [==============================] - 2s 23ms/step - loss: 1.5607e-08 - acc: 1.0000 - val_loss: 0.0147 - val_acc: 0.9980\n",
            "Epoch 171/200\n",
            " 98/100 [============================>.] - ETA: 0s - loss: 1.0894e-08 - acc: 1.0000\n",
            "Epoch 171: val_loss did not improve from 0.01310\n",
            "100/100 [==============================] - 2s 23ms/step - loss: 1.0804e-08 - acc: 1.0000 - val_loss: 0.0147 - val_acc: 0.9980\n",
            "Epoch 172/200\n",
            " 98/100 [============================>.] - ETA: 0s - loss: 1.5240e-08 - acc: 1.0000\n",
            "Epoch 172: val_loss did not improve from 0.01310\n",
            "100/100 [==============================] - 2s 24ms/step - loss: 1.5063e-08 - acc: 1.0000 - val_loss: 0.0147 - val_acc: 0.9970\n",
            "Epoch 173/200\n",
            " 98/100 [============================>.] - ETA: 0s - loss: 1.6199e-08 - acc: 1.0000\n",
            "Epoch 173: val_loss did not improve from 0.01310\n",
            "100/100 [==============================] - 2s 23ms/step - loss: 1.6429e-08 - acc: 1.0000 - val_loss: 0.0147 - val_acc: 0.9970\n",
            "Epoch 174/200\n",
            "100/100 [==============================] - ETA: 0s - loss: 2.0550e-08 - acc: 1.0000\n",
            "Epoch 174: val_loss did not improve from 0.01310\n",
            "100/100 [==============================] - 3s 32ms/step - loss: 2.0550e-08 - acc: 1.0000 - val_loss: 0.0147 - val_acc: 0.9970\n",
            "Epoch 175/200\n",
            " 99/100 [============================>.] - ETA: 0s - loss: 1.5933e-08 - acc: 1.0000\n",
            "Epoch 175: val_loss did not improve from 0.01310\n",
            "100/100 [==============================] - 3s 30ms/step - loss: 1.5813e-08 - acc: 1.0000 - val_loss: 0.0147 - val_acc: 0.9970\n",
            "Epoch 176/200\n",
            " 99/100 [============================>.] - ETA: 0s - loss: 1.2390e-08 - acc: 1.0000\n",
            "Epoch 176: val_loss did not improve from 0.01310\n",
            "100/100 [==============================] - 2s 23ms/step - loss: 1.2298e-08 - acc: 1.0000 - val_loss: 0.0147 - val_acc: 0.9970\n",
            "Epoch 177/200\n",
            " 98/100 [============================>.] - ETA: 0s - loss: 9.9238e-09 - acc: 1.0000\n",
            "Epoch 177: val_loss did not improve from 0.01310\n",
            "100/100 [==============================] - 2s 23ms/step - loss: 9.9054e-09 - acc: 1.0000 - val_loss: 0.0147 - val_acc: 0.9970\n",
            "Epoch 178/200\n",
            " 99/100 [============================>.] - ETA: 0s - loss: 1.5448e-08 - acc: 1.0000\n",
            "Epoch 178: val_loss did not improve from 0.01310\n",
            "100/100 [==============================] - 2s 22ms/step - loss: 1.5683e-08 - acc: 1.0000 - val_loss: 0.0147 - val_acc: 0.9980\n",
            "Epoch 179/200\n",
            "100/100 [==============================] - ETA: 0s - loss: 1.0995e-08 - acc: 1.0000\n",
            "Epoch 179: val_loss did not improve from 0.01310\n",
            "100/100 [==============================] - 2s 23ms/step - loss: 1.0995e-08 - acc: 1.0000 - val_loss: 0.0147 - val_acc: 0.9970\n",
            "Epoch 180/200\n",
            " 99/100 [============================>.] - ETA: 0s - loss: 1.1399e-08 - acc: 1.0000\n",
            "Epoch 180: val_loss did not improve from 0.01310\n",
            "100/100 [==============================] - 3s 29ms/step - loss: 1.1597e-08 - acc: 1.0000 - val_loss: 0.0147 - val_acc: 0.9970\n",
            "Epoch 181/200\n",
            "100/100 [==============================] - ETA: 0s - loss: 1.0624e-08 - acc: 1.0000\n",
            "Epoch 181: val_loss did not improve from 0.01310\n",
            "100/100 [==============================] - 3s 32ms/step - loss: 1.0624e-08 - acc: 1.0000 - val_loss: 0.0147 - val_acc: 0.9970\n",
            "Epoch 182/200\n",
            " 98/100 [============================>.] - ETA: 0s - loss: 1.8987e-08 - acc: 1.0000\n",
            "Epoch 182: val_loss did not improve from 0.01310\n",
            "100/100 [==============================] - 2s 22ms/step - loss: 1.8820e-08 - acc: 1.0000 - val_loss: 0.0147 - val_acc: 0.9970\n",
            "Epoch 183/200\n",
            " 99/100 [============================>.] - ETA: 0s - loss: 1.2703e-08 - acc: 1.0000\n",
            "Epoch 183: val_loss did not improve from 0.01310\n",
            "100/100 [==============================] - 2s 23ms/step - loss: 1.2685e-08 - acc: 1.0000 - val_loss: 0.0147 - val_acc: 0.9970\n",
            "Epoch 184/200\n",
            " 98/100 [============================>.] - ETA: 0s - loss: 9.8240e-09 - acc: 1.0000\n",
            "Epoch 184: val_loss did not improve from 0.01310\n",
            "100/100 [==============================] - 2s 24ms/step - loss: 9.8554e-09 - acc: 1.0000 - val_loss: 0.0147 - val_acc: 0.9970\n",
            "Epoch 185/200\n",
            "100/100 [==============================] - ETA: 0s - loss: 1.1070e-08 - acc: 1.0000\n",
            "Epoch 185: val_loss did not improve from 0.01310\n",
            "100/100 [==============================] - 2s 23ms/step - loss: 1.1070e-08 - acc: 1.0000 - val_loss: 0.0147 - val_acc: 0.9970\n",
            "Epoch 186/200\n",
            " 99/100 [============================>.] - ETA: 0s - loss: 1.3664e-08 - acc: 1.0000\n",
            "Epoch 186: val_loss did not improve from 0.01310\n",
            "100/100 [==============================] - 3s 29ms/step - loss: 1.3749e-08 - acc: 1.0000 - val_loss: 0.0147 - val_acc: 0.9970\n",
            "Epoch 187/200\n",
            "100/100 [==============================] - ETA: 0s - loss: 9.6362e-09 - acc: 1.0000\n",
            "Epoch 187: val_loss did not improve from 0.01310\n",
            "100/100 [==============================] - 4s 36ms/step - loss: 9.6362e-09 - acc: 1.0000 - val_loss: 0.0147 - val_acc: 0.9970\n",
            "Epoch 188/200\n",
            " 99/100 [============================>.] - ETA: 0s - loss: 1.2056e-08 - acc: 1.0000\n",
            "Epoch 188: val_loss did not improve from 0.01310\n",
            "100/100 [==============================] - 2s 23ms/step - loss: 1.2131e-08 - acc: 1.0000 - val_loss: 0.0147 - val_acc: 0.9970\n",
            "Epoch 189/200\n",
            " 98/100 [============================>.] - ETA: 0s - loss: 3.0105e-08 - acc: 1.0000\n",
            "Epoch 189: val_loss did not improve from 0.01310\n",
            "100/100 [==============================] - 2s 24ms/step - loss: 2.9796e-08 - acc: 1.0000 - val_loss: 0.0147 - val_acc: 0.9970\n",
            "Epoch 190/200\n",
            " 98/100 [============================>.] - ETA: 0s - loss: 1.2293e-08 - acc: 1.0000\n",
            "Epoch 190: val_loss did not improve from 0.01310\n",
            "100/100 [==============================] - 2s 24ms/step - loss: 1.2206e-08 - acc: 1.0000 - val_loss: 0.0147 - val_acc: 0.9970\n",
            "Epoch 191/200\n",
            " 99/100 [============================>.] - ETA: 0s - loss: 1.0497e-08 - acc: 1.0000\n",
            "Epoch 191: val_loss did not improve from 0.01310\n",
            "100/100 [==============================] - 2s 23ms/step - loss: 1.0464e-08 - acc: 1.0000 - val_loss: 0.0147 - val_acc: 0.9970\n",
            "Epoch 192/200\n",
            " 99/100 [============================>.] - ETA: 0s - loss: 1.5346e-08 - acc: 1.0000\n",
            "Epoch 192: val_loss did not improve from 0.01310\n",
            "100/100 [==============================] - 3s 33ms/step - loss: 1.5481e-08 - acc: 1.0000 - val_loss: 0.0147 - val_acc: 0.9970\n",
            "Epoch 193/200\n",
            " 98/100 [============================>.] - ETA: 0s - loss: 1.1235e-08 - acc: 1.0000\n",
            "Epoch 193: val_loss did not improve from 0.01310\n",
            "100/100 [==============================] - 3s 31ms/step - loss: 1.1063e-08 - acc: 1.0000 - val_loss: 0.0147 - val_acc: 0.9970\n",
            "Epoch 194/200\n",
            " 99/100 [============================>.] - ETA: 0s - loss: 1.2933e-08 - acc: 1.0000\n",
            "Epoch 194: val_loss did not improve from 0.01310\n",
            "100/100 [==============================] - 2s 24ms/step - loss: 1.2857e-08 - acc: 1.0000 - val_loss: 0.0147 - val_acc: 0.9970\n",
            "Epoch 195/200\n",
            " 99/100 [============================>.] - ETA: 0s - loss: 1.1633e-08 - acc: 1.0000\n",
            "Epoch 195: val_loss did not improve from 0.01310\n",
            "100/100 [==============================] - 2s 23ms/step - loss: 1.1842e-08 - acc: 1.0000 - val_loss: 0.0147 - val_acc: 0.9970\n",
            "Epoch 196/200\n",
            "100/100 [==============================] - ETA: 0s - loss: 1.6781e-08 - acc: 1.0000\n",
            "Epoch 196: val_loss did not improve from 0.01310\n",
            "100/100 [==============================] - 2s 24ms/step - loss: 1.6781e-08 - acc: 1.0000 - val_loss: 0.0147 - val_acc: 0.9970\n",
            "Epoch 197/200\n",
            " 98/100 [============================>.] - ETA: 0s - loss: 7.8397e-09 - acc: 1.0000\n",
            "Epoch 197: val_loss did not improve from 0.01310\n",
            "100/100 [==============================] - 2s 24ms/step - loss: 9.5906e-09 - acc: 1.0000 - val_loss: 0.0147 - val_acc: 0.9970\n",
            "Epoch 198/200\n",
            " 99/100 [============================>.] - ETA: 0s - loss: 1.2970e-08 - acc: 1.0000\n",
            "Epoch 198: val_loss did not improve from 0.01310\n",
            "100/100 [==============================] - 4s 36ms/step - loss: 1.2868e-08 - acc: 1.0000 - val_loss: 0.0147 - val_acc: 0.9970\n",
            "Epoch 199/200\n",
            "100/100 [==============================] - ETA: 0s - loss: 1.0111e-08 - acc: 1.0000\n",
            "Epoch 199: val_loss did not improve from 0.01310\n",
            "100/100 [==============================] - 3s 27ms/step - loss: 1.0111e-08 - acc: 1.0000 - val_loss: 0.0147 - val_acc: 0.9970\n",
            "Epoch 200/200\n",
            " 98/100 [============================>.] - ETA: 0s - loss: 1.4215e-08 - acc: 1.0000\n",
            "Epoch 200: val_loss did not improve from 0.01310\n",
            "100/100 [==============================] - 2s 23ms/step - loss: 1.3999e-08 - acc: 1.0000 - val_loss: 0.0147 - val_acc: 0.9970\n"
          ]
        }
      ],
      "source": [
        "history = model.fit(train_features, train_labels, epochs= 200, batch_size=20, validation_data = (validation_features, validation_labels), callbacks = [check_point])"
      ]
    },
    {
      "cell_type": "code",
      "execution_count": null,
      "metadata": {
        "colab": {
          "base_uri": "https://localhost:8080/",
          "height": 887
        },
        "id": "gB2-x6W-ujBv",
        "outputId": "8db715a3-3dc4-4af4-ddaf-7f9fd394ff36"
      },
      "outputs": [
        {
          "data": {
            "image/png": "[encoded data removed]",
            "text/plain": [
              "<Figure size 640x480 with 1 Axes>"
            ]
          },
          "metadata": {},
          "output_type": "display_data"
        },
        {
          "data": {
            "image/png": "[encoded data removed]",
            "text/plain": [
              "<Figure size 640x480 with 1 Axes>"
            ]
          },
          "metadata": {},
          "output_type": "display_data"
        }
      ],
      "source": [
        "import matplotlib.pyplot as plt\n",
        "acc = history.history['acc']\n",
        "val_acc = history.history['val_acc']\n",
        "loss = history.history['loss']\n",
        "val_loss = history.history['val_loss']\n",
        "epochs = range(1, len(acc)+1)\n",
        "plt.plot(epochs, acc, 'bo', label='Training acc')\n",
        "plt.plot(epochs, val_acc, 'b', label='Validation acc')\n",
        "plt.title('Training and validation accuracy')\n",
        "plt.legend()\n",
        "plt.figure()\n",
        "plt.plot(epochs, loss, 'bo', label='Training loss')\n",
        "plt.plot(epochs, val_loss, 'b', label='Validation loss')\n",
        "plt.title('Training and validation loss')\n",
        "plt.legend()\n",
        "plt.show()"
      ]
    },
    {
      "cell_type": "code",
      "execution_count": null,
      "metadata": {
        "id": "HenHj8Q1vQLe"
      },
      "outputs": [],
      "source": [
        "model.save('cats_and_dogs_small_3.h5')"
      ]
    },
    {
      "cell_type": "code",
      "execution_count": 12,
      "metadata": {
        "id": "Oae-pyV49ElT"
      },
      "outputs": [],
      "source": [
        "model = models.Sequential()\n",
        "model.add(conve_base)\n",
        "model.add(layers.Flatten())\n",
        "model.add(layers.Dense(256, activation = 'relu'))\n",
        "model.add(layers.Dense(1, activation = 'sigmoid'))"
      ]
    },
    {
      "cell_type": "markdown",
      "source": [
        "Here i defines a new model using Keras' sequential API. The model consists of the following layers:\n",
        "1. `conve_base`: This layer is the pre-trained VGG16 model, which is used as a feature extractor and its weights are not trainable.\n",
        "2. `layers.Flatten()`: This layer flattens the output from the VGG16 model into a 1D tensor, preparing it for the dense layers.\n",
        "3. `layers.Dense(256, activation='relu')`: This fully connected dense layer with 256 units applies the ReLU activation function.\n",
        "4. `layers.Dense(1, activation='sigmoid')`: This is the output layer with a single unit using the sigmoid activation function, suitable for binary classification.\n",
        "\n",
        "The resulting model combines the VGG16 base as a feature extractor with additional dense layers for fine-tuning and classification."
      ],
      "metadata": {
        "id": "S-mOpXyLDVw8"
      }
    },
    {
      "cell_type": "code",
      "execution_count": 13,
      "metadata": {
        "colab": {
          "base_uri": "https://localhost:8080/"
        },
        "id": "8WgZ6bbd9MVF",
        "outputId": "4478e69a-fe8f-4b2e-91ce-52ac6ffdaf43"
      },
      "outputs": [
        {
          "output_type": "stream",
          "name": "stdout",
          "text": [
            "Model: \"sequential_2\"\n",
            "_________________________________________________________________\n",
            " Layer (type)                Output Shape              Param #   \n",
            "=================================================================\n",
            " vgg16 (Functional)          (None, 4, 4, 512)         14714688  \n",
            "                                                                 \n",
            " flatten (Flatten)           (None, 8192)              0         \n",
            "                                                                 \n",
            " dense_2 (Dense)             (None, 256)               2097408   \n",
            "                                                                 \n",
            " dense_3 (Dense)             (None, 1)                 257       \n",
            "                                                                 \n",
            "=================================================================\n",
            "Total params: 16,812,353\n",
            "Trainable params: 16,812,353\n",
            "Non-trainable params: 0\n",
            "_________________________________________________________________\n"
          ]
        }
      ],
      "source": [
        "model.summary()"
      ]
    },
    {
      "cell_type": "code",
      "execution_count": 14,
      "metadata": {
        "colab": {
          "base_uri": "https://localhost:8080/"
        },
        "id": "IJ-Z3ons-IuY",
        "outputId": "6f436391-6a2a-4afb-80ed-c34636ac168a"
      },
      "outputs": [
        {
          "output_type": "stream",
          "name": "stdout",
          "text": [
            "this is the number of trainable weights before freezing the covolutional base 30\n"
          ]
        }
      ],
      "source": [
        "print('this is the number of trainable weights before freezing the covolutional base', len(model.trainable_weights))"
      ]
    },
    {
      "cell_type": "code",
      "execution_count": 15,
      "metadata": {
        "id": "S4IlxOgSAn6S"
      },
      "outputs": [],
      "source": [
        "conve_base.trainable = False"
      ]
    },
    {
      "cell_type": "code",
      "execution_count": 16,
      "metadata": {
        "colab": {
          "base_uri": "https://localhost:8080/"
        },
        "id": "YW2saVPeAzhJ",
        "outputId": "1f95f38b-8eb8-49ad-e3c3-a8fbc01acb66"
      },
      "outputs": [
        {
          "output_type": "stream",
          "name": "stdout",
          "text": [
            " this the number of tainable weight after freezing the conve_base 4\n"
          ]
        }
      ],
      "source": [
        "print(' this the number of tainable weight after freezing the conve_base', len(model.trainable_weights))"
      ]
    },
    {
      "cell_type": "code",
      "execution_count": 22,
      "metadata": {
        "id": "Wyi0XaioBAxb"
      },
      "outputs": [],
      "source": [
        "model.compile(loss = 'binary_crossentropy', optimizer=optimizers.RMSprop(learning_rate = 2e-5), metrics = ['acc'])"
      ]
    },
    {
      "cell_type": "code",
      "execution_count": null,
      "metadata": {
        "id": "vAJzvUihDAmR"
      },
      "outputs": [],
      "source": [
        "history =  model.fit_generator( train_generator, steps_per_epoch= 100, epochs=30, validation_data=validation_generator,validation_steps = 50, callbacks = [check_point] )"
      ]
    },
    {
      "cell_type": "markdown",
      "source": [
        "Here i, first prints the number of trainable weights before freezing the convolutional base, then sets the `conve_base` as non-trainable, and finally prints the number of trainable weights after freezing. The model is then compiled with the specified optimizer, loss function, and metrics. It is subsequently trained using the training data generator with 100 steps per epoch and for 30 epochs, while also using the validation data generator with 50 validation steps. Additionally, it saves the best model based on validation loss using the `ModelCheckpoint` callback."
      ],
      "metadata": {
        "id": "s5sCkbQlFOG5"
      }
    },
    {
      "cell_type": "code",
      "execution_count": 28,
      "metadata": {
        "id": "SHoX4Sn3EOfC"
      },
      "outputs": [],
      "source": [
        "import matplotlib.pyplot as plt\n",
        "acc = history.history['acc']\n",
        "val_acc = history.history['val_acc']\n",
        "loss = history.history['loss']\n",
        "val_loss = history.history['val_loss']\n",
        "epochs = range(1, len(acc)+1)\n",
        "plt.plot(epochs, acc, 'bo', label='Training acc')\n",
        "plt.plot(epochs, val_acc, 'b', label='Validation acc')\n",
        "plt.title('Training and validation accuracy')\n",
        "plt.legend()\n",
        "plt.figure()\n",
        "plt.plot(epochs, loss, 'bo', label='Training loss')\n",
        "plt.plot(epochs, val_loss, 'b', label='Validation loss')\n",
        "plt.title('Training and validation loss')\n",
        "plt.legend()\n",
        "plt.show()"
      ]
    },
    {
      "cell_type": "code",
      "source": [],
      "metadata": {
        "id": "hywNTx_3hV2Z"
      },
      "execution_count": null,
      "outputs": []
    }
  ],
  "metadata": {
    "colab": {
      "provenance": []
    },
    "kernelspec": {
      "display_name": "Python 3",
      "name": "python3"
    },
    "language_info": {
      "name": "python"
    }
  },
  "nbformat": 4,
  "nbformat_minor": 0
}